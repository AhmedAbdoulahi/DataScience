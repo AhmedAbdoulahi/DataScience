{
  "nbformat": 4,
  "nbformat_minor": 0,
  "metadata": {
    "colab": {
      "provenance": [],
      "include_colab_link": true
    },
    "kernelspec": {
      "name": "python3",
      "display_name": "Python 3"
    },
    "language_info": {
      "name": "python"
    }
  },
  "cells": [
    {
      "cell_type": "markdown",
      "metadata": {
        "id": "view-in-github",
        "colab_type": "text"
      },
      "source": [
        "<a href=\"https://colab.research.google.com/github/AhmedAbdoulahi/DataScience/blob/master/Atelier1_4.ipynb\" target=\"_parent\"><img src=\"https://colab.research.google.com/assets/colab-badge.svg\" alt=\"Open In Colab\"/></a>"
      ]
    },
    {
      "cell_type": "code",
      "execution_count": null,
      "metadata": {
        "id": "gBFCOEIxpKKt"
      },
      "outputs": [],
      "source": []
    },
    {
      "cell_type": "code",
      "execution_count": null,
      "metadata": {
        "id": "mmnfsAUp1CDS"
      },
      "outputs": [],
      "source": [
        "# import des bibliothèques utiles\n",
        "import pandas as pd\n",
        "import numpy as np\n",
        "import matplotlib.pyplot as plt\n",
        "import seaborn as sns\n",
        "from sklearn.linear_model import LinearRegression\n",
        "from sklearn.preprocessing import StandardScaler, MinMaxScaler,PolynomialFeatures\n",
        "from sklearn.model_selection import train_test_split,validation_curve"
      ]
    },
    {
      "cell_type": "code",
      "source": [
        "import warnings\n",
        "warnings.filterwarnings('ignore')"
      ],
      "metadata": {
        "id": "VvyYYpBopgE4"
      },
      "execution_count": null,
      "outputs": []
    },
    {
      "cell_type": "code",
      "source": [
        "from google.colab import drive\n",
        "drive.mount('/content/drive', force_remount=True)\n",
        "# Lecture du dataset\n",
        "# China gdp\n",
        "dataSet = pd.read_csv('/content/drive/My Drive/BD/china_gdp.csv')\n",
        "\n",
        "print ( 'avant de supprimer les valeurs en double :' ,dataSet.shape)\n",
        "# Suppression des lignes en double le cas échéant\n",
        "dataSet = dataSet.drop_duplicates ()\n",
        "print ( 'après suppression des valeurs en double :' ,  dataSet.shape )\n",
        "print(\"Base d'exemples: \")\n",
        "dataSet.head()"
      ],
      "metadata": {
        "colab": {
          "base_uri": "https://localhost:8080/",
          "height": 276
        },
        "id": "GbEqljQ0prWM",
        "outputId": "b7734ca3-b482-4ecc-ca64-8e71311fd8f9"
      },
      "execution_count": null,
      "outputs": [
        {
          "output_type": "stream",
          "name": "stdout",
          "text": [
            "Mounted at /content/drive\n",
            "avant de supprimer les valeurs en double : (55, 2)\n",
            "après suppression des valeurs en double : (55, 2)\n",
            "Base d'exemples: \n"
          ]
        },
        {
          "output_type": "execute_result",
          "data": {
            "text/plain": [
              "   Year         Value\n",
              "0  1960  5.918412e+10\n",
              "1  1961  4.955705e+10\n",
              "2  1962  4.668518e+10\n",
              "3  1963  5.009730e+10\n",
              "4  1964  5.906225e+10"
            ],
            "text/html": [
              "\n",
              "  <div id=\"df-12ac5939-c979-48d9-9983-a52b662df65c\">\n",
              "    <div class=\"colab-df-container\">\n",
              "      <div>\n",
              "<style scoped>\n",
              "    .dataframe tbody tr th:only-of-type {\n",
              "        vertical-align: middle;\n",
              "    }\n",
              "\n",
              "    .dataframe tbody tr th {\n",
              "        vertical-align: top;\n",
              "    }\n",
              "\n",
              "    .dataframe thead th {\n",
              "        text-align: right;\n",
              "    }\n",
              "</style>\n",
              "<table border=\"1\" class=\"dataframe\">\n",
              "  <thead>\n",
              "    <tr style=\"text-align: right;\">\n",
              "      <th></th>\n",
              "      <th>Year</th>\n",
              "      <th>Value</th>\n",
              "    </tr>\n",
              "  </thead>\n",
              "  <tbody>\n",
              "    <tr>\n",
              "      <th>0</th>\n",
              "      <td>1960</td>\n",
              "      <td>5.918412e+10</td>\n",
              "    </tr>\n",
              "    <tr>\n",
              "      <th>1</th>\n",
              "      <td>1961</td>\n",
              "      <td>4.955705e+10</td>\n",
              "    </tr>\n",
              "    <tr>\n",
              "      <th>2</th>\n",
              "      <td>1962</td>\n",
              "      <td>4.668518e+10</td>\n",
              "    </tr>\n",
              "    <tr>\n",
              "      <th>3</th>\n",
              "      <td>1963</td>\n",
              "      <td>5.009730e+10</td>\n",
              "    </tr>\n",
              "    <tr>\n",
              "      <th>4</th>\n",
              "      <td>1964</td>\n",
              "      <td>5.906225e+10</td>\n",
              "    </tr>\n",
              "  </tbody>\n",
              "</table>\n",
              "</div>\n",
              "      <button class=\"colab-df-convert\" onclick=\"convertToInteractive('df-12ac5939-c979-48d9-9983-a52b662df65c')\"\n",
              "              title=\"Convert this dataframe to an interactive table.\"\n",
              "              style=\"display:none;\">\n",
              "        \n",
              "  <svg xmlns=\"http://www.w3.org/2000/svg\" height=\"24px\"viewBox=\"0 0 24 24\"\n",
              "       width=\"24px\">\n",
              "    <path d=\"M0 0h24v24H0V0z\" fill=\"none\"/>\n",
              "    <path d=\"M18.56 5.44l.94 2.06.94-2.06 2.06-.94-2.06-.94-.94-2.06-.94 2.06-2.06.94zm-11 1L8.5 8.5l.94-2.06 2.06-.94-2.06-.94L8.5 2.5l-.94 2.06-2.06.94zm10 10l.94 2.06.94-2.06 2.06-.94-2.06-.94-.94-2.06-.94 2.06-2.06.94z\"/><path d=\"M17.41 7.96l-1.37-1.37c-.4-.4-.92-.59-1.43-.59-.52 0-1.04.2-1.43.59L10.3 9.45l-7.72 7.72c-.78.78-.78 2.05 0 2.83L4 21.41c.39.39.9.59 1.41.59.51 0 1.02-.2 1.41-.59l7.78-7.78 2.81-2.81c.8-.78.8-2.07 0-2.86zM5.41 20L4 18.59l7.72-7.72 1.47 1.35L5.41 20z\"/>\n",
              "  </svg>\n",
              "      </button>\n",
              "      \n",
              "  <style>\n",
              "    .colab-df-container {\n",
              "      display:flex;\n",
              "      flex-wrap:wrap;\n",
              "      gap: 12px;\n",
              "    }\n",
              "\n",
              "    .colab-df-convert {\n",
              "      background-color: #E8F0FE;\n",
              "      border: none;\n",
              "      border-radius: 50%;\n",
              "      cursor: pointer;\n",
              "      display: none;\n",
              "      fill: #1967D2;\n",
              "      height: 32px;\n",
              "      padding: 0 0 0 0;\n",
              "      width: 32px;\n",
              "    }\n",
              "\n",
              "    .colab-df-convert:hover {\n",
              "      background-color: #E2EBFA;\n",
              "      box-shadow: 0px 1px 2px rgba(60, 64, 67, 0.3), 0px 1px 3px 1px rgba(60, 64, 67, 0.15);\n",
              "      fill: #174EA6;\n",
              "    }\n",
              "\n",
              "    [theme=dark] .colab-df-convert {\n",
              "      background-color: #3B4455;\n",
              "      fill: #D2E3FC;\n",
              "    }\n",
              "\n",
              "    [theme=dark] .colab-df-convert:hover {\n",
              "      background-color: #434B5C;\n",
              "      box-shadow: 0px 1px 3px 1px rgba(0, 0, 0, 0.15);\n",
              "      filter: drop-shadow(0px 1px 2px rgba(0, 0, 0, 0.3));\n",
              "      fill: #FFFFFF;\n",
              "    }\n",
              "  </style>\n",
              "\n",
              "      <script>\n",
              "        const buttonEl =\n",
              "          document.querySelector('#df-12ac5939-c979-48d9-9983-a52b662df65c button.colab-df-convert');\n",
              "        buttonEl.style.display =\n",
              "          google.colab.kernel.accessAllowed ? 'block' : 'none';\n",
              "\n",
              "        async function convertToInteractive(key) {\n",
              "          const element = document.querySelector('#df-12ac5939-c979-48d9-9983-a52b662df65c');\n",
              "          const dataTable =\n",
              "            await google.colab.kernel.invokeFunction('convertToInteractive',\n",
              "                                                     [key], {});\n",
              "          if (!dataTable) return;\n",
              "\n",
              "          const docLinkHtml = 'Like what you see? Visit the ' +\n",
              "            '<a target=\"_blank\" href=https://colab.research.google.com/notebooks/data_table.ipynb>data table notebook</a>'\n",
              "            + ' to learn more about interactive tables.';\n",
              "          element.innerHTML = '';\n",
              "          dataTable['output_type'] = 'display_data';\n",
              "          await google.colab.output.renderOutput(dataTable, element);\n",
              "          const docLink = document.createElement('div');\n",
              "          docLink.innerHTML = docLinkHtml;\n",
              "          element.appendChild(docLink);\n",
              "        }\n",
              "      </script>\n",
              "    </div>\n",
              "  </div>\n",
              "  "
            ]
          },
          "metadata": {},
          "execution_count": 6
        }
      ]
    },
    {
      "cell_type": "code",
      "source": [
        "target = dataSet['Value'].values\n",
        "data  = dataSet['Year'].values\n",
        "target = target.reshape(-1, 1)\n",
        "data = data.reshape(-1, 1)"
      ],
      "metadata": {
        "id": "6ySyUv-gp9wB"
      },
      "execution_count": null,
      "outputs": []
    },
    {
      "cell_type": "code",
      "source": [
        "# Standardisation\n",
        "scale= MinMaxScaler()\n",
        "data = scale.fit_transform(data)\n",
        "print(target.shape, data.shape)"
      ],
      "metadata": {
        "colab": {
          "base_uri": "https://localhost:8080/"
        },
        "id": "7dvOBtOHqZWp",
        "outputId": "c9b6fb1b-92da-4b27-a4fd-b349945fd064"
      },
      "execution_count": null,
      "outputs": [
        {
          "output_type": "stream",
          "name": "stdout",
          "text": [
            "(55, 1) (55, 1)\n"
          ]
        }
      ]
    },
    {
      "cell_type": "code",
      "source": [
        "X = target\n",
        "X = (X+np.min(X)) / (np.max(X) - np.min(X))\n",
        "X"
      ],
      "metadata": {
        "colab": {
          "base_uri": "https://localhost:8080/"
        },
        "id": "OZ6lX3ZXqprH",
        "outputId": "ce80f955-df49-4dfb-bb52-8552a4246ec0"
      },
      "execution_count": null,
      "outputs": [
        {
          "output_type": "execute_result",
          "data": {
            "text/plain": [
              "array([[0.01027045],\n",
              "       [0.00933652],\n",
              "       [0.00905792],\n",
              "       [0.00938893],\n",
              "       [0.01025863],\n",
              "       [0.01129149],\n",
              "       [0.01189007],\n",
              "       [0.01151926],\n",
              "       [0.01131907],\n",
              "       [0.01216552],\n",
              "       [0.01340604],\n",
              "       [0.01409053],\n",
              "       [0.01540966],\n",
              "       [0.01779709],\n",
              "       [0.01832918],\n",
              "       [0.02016344],\n",
              "       [0.01923846],\n",
              "       [0.02124865],\n",
              "       [0.0189236 ],\n",
              "       [0.02168593],\n",
              "       [0.02292703],\n",
              "       [0.02338483],\n",
              "       [0.02427544],\n",
              "       [0.02673957],\n",
              "       [0.02956568],\n",
              "       [0.03435775],\n",
              "       [0.0335163 ],\n",
              "       [0.03085278],\n",
              "       [0.03467232],\n",
              "       [0.03809052],\n",
              "       [0.03935319],\n",
              "       [0.04153413],\n",
              "       [0.04575209],\n",
              "       [0.04749251],\n",
              "       [0.05907428],\n",
              "       [0.07554386],\n",
              "       [0.08804001],\n",
              "       [0.09748063],\n",
              "       [0.10399174],\n",
              "       [0.11021693],\n",
              "       [0.12145208],\n",
              "       [0.13376992],\n",
              "       [0.14634946],\n",
              "       [0.16458962],\n",
              "       [0.19289896],\n",
              "       [0.22460721],\n",
              "       [0.26934708],\n",
              "       [0.34630663],\n",
              "       [0.44674532],\n",
              "       [0.49534656],\n",
              "       [0.59044016],\n",
              "       [0.73137467],\n",
              "       [0.82539652],\n",
              "       [0.92521849],\n",
              "       [1.00905792]])"
            ]
          },
          "metadata": {},
          "execution_count": 9
        }
      ]
    },
    {
      "cell_type": "code",
      "source": [
        "data"
      ],
      "metadata": {
        "colab": {
          "base_uri": "https://localhost:8080/"
        },
        "id": "H-c6EqrxsAma",
        "outputId": "bc5ad84c-1457-4a58-b218-ea2080c11998"
      },
      "execution_count": null,
      "outputs": [
        {
          "output_type": "execute_result",
          "data": {
            "text/plain": [
              "array([[0.        ],\n",
              "       [0.01851852],\n",
              "       [0.03703704],\n",
              "       [0.05555556],\n",
              "       [0.07407407],\n",
              "       [0.09259259],\n",
              "       [0.11111111],\n",
              "       [0.12962963],\n",
              "       [0.14814815],\n",
              "       [0.16666667],\n",
              "       [0.18518519],\n",
              "       [0.2037037 ],\n",
              "       [0.22222222],\n",
              "       [0.24074074],\n",
              "       [0.25925926],\n",
              "       [0.27777778],\n",
              "       [0.2962963 ],\n",
              "       [0.31481481],\n",
              "       [0.33333333],\n",
              "       [0.35185185],\n",
              "       [0.37037037],\n",
              "       [0.38888889],\n",
              "       [0.40740741],\n",
              "       [0.42592593],\n",
              "       [0.44444444],\n",
              "       [0.46296296],\n",
              "       [0.48148148],\n",
              "       [0.5       ],\n",
              "       [0.51851852],\n",
              "       [0.53703704],\n",
              "       [0.55555556],\n",
              "       [0.57407407],\n",
              "       [0.59259259],\n",
              "       [0.61111111],\n",
              "       [0.62962963],\n",
              "       [0.64814815],\n",
              "       [0.66666667],\n",
              "       [0.68518519],\n",
              "       [0.7037037 ],\n",
              "       [0.72222222],\n",
              "       [0.74074074],\n",
              "       [0.75925926],\n",
              "       [0.77777778],\n",
              "       [0.7962963 ],\n",
              "       [0.81481481],\n",
              "       [0.83333333],\n",
              "       [0.85185185],\n",
              "       [0.87037037],\n",
              "       [0.88888889],\n",
              "       [0.90740741],\n",
              "       [0.92592593],\n",
              "       [0.94444444],\n",
              "       [0.96296296],\n",
              "       [0.98148148],\n",
              "       [1.        ]])"
            ]
          },
          "metadata": {},
          "execution_count": 10
        }
      ]
    },
    {
      "cell_type": "code",
      "source": [
        "plt.plot(data)"
      ],
      "metadata": {
        "colab": {
          "base_uri": "https://localhost:8080/",
          "height": 282
        },
        "id": "Uk6EjRahsXKo",
        "outputId": "28e29e45-88e0-4bd8-e79c-a77a88ddae41"
      },
      "execution_count": null,
      "outputs": [
        {
          "output_type": "execute_result",
          "data": {
            "text/plain": [
              "[<matplotlib.lines.Line2D at 0x7f1fd6032040>]"
            ]
          },
          "metadata": {},
          "execution_count": 11
        },
        {
          "output_type": "display_data",
          "data": {
            "text/plain": [
              "<Figure size 432x288 with 1 Axes>"
            ],
            "image/png": "[encoded data removed]"
          },
          "metadata": {
            "needs_background": "light"
          }
        }
      ]
    },
    {
      "cell_type": "code",
      "source": [
        "#Divisons les données en ensemble d'entraînement et de test\n",
        "\n",
        "X_train,X_test,Y_train,Y_test = train_test_split(data,X,test_size=0.15, random_state=0)"
      ],
      "metadata": {
        "id": "rOXANtWOrF3Y"
      },
      "execution_count": null,
      "outputs": []
    },
    {
      "cell_type": "code",
      "source": [
        "from sklearn.neighbors import KNeighborsRegressor\n",
        "from sklearn.linear_model import SGDRegressor\n",
        "from sklearn.svm import SVR"
      ],
      "metadata": {
        "id": "eY8cEw3XrLUi"
      },
      "execution_count": null,
      "outputs": []
    },
    {
      "cell_type": "code",
      "source": [
        "model_1 = SGDRegressor(random_state=0)\n",
        "model_2 = LinearRegression()\n",
        "model_3 = KNeighborsRegressor(n_neighbors=2)\n",
        "model_4 = SVR(kernel=\"rbf\", C=100, gamma=0.1, epsilon=0.1)\n",
        "\n",
        "for model in (model_1, model_2, model_3, model_4):\n",
        "    model.fit(X_train, Y_train)\n",
        "    print(model.__class__.__name__, model.score(X_test, Y_test))"
      ],
      "metadata": {
        "colab": {
          "base_uri": "https://localhost:8080/"
        },
        "id": "6_eE5usYrQtk",
        "outputId": "b374e62a-b3bd-43df-9775-0572c47bdd93"
      },
      "execution_count": null,
      "outputs": [
        {
          "output_type": "stream",
          "name": "stdout",
          "text": [
            "SGDRegressor 0.19676566193006306\n",
            "LinearRegression -1.9670489702302225\n",
            "KNeighborsRegressor 0.7549041101414333\n",
            "SVR -0.5710693044535315\n"
          ]
        }
      ]
    },
    {
      "cell_type": "code",
      "source": [
        "model = KNeighborsRegressor()\n",
        "k = np.arange(1, 25)\n",
        "\n",
        "train_score, val_score = validation_curve(model, X_train, Y_train,\n",
        "                                          param_name='n_neighbors',\n",
        "                                          param_range=k, cv=5)\n",
        "\n",
        "plt.plot(k, val_score.mean(axis=1), label='validation')\n",
        "plt.plot(k, train_score.mean(axis=1), label='train')\n",
        "\n",
        "plt.ylabel('score')\n",
        "plt.xlabel('n_neighbors')\n",
        "plt.legend()"
      ],
      "metadata": {
        "colab": {
          "base_uri": "https://localhost:8080/",
          "height": 297
        },
        "id": "R7gDQ64erUhh",
        "outputId": "b5289698-75e3-41f0-f4e4-a5a47b11a85c"
      },
      "execution_count": null,
      "outputs": [
        {
          "output_type": "execute_result",
          "data": {
            "text/plain": [
              "<matplotlib.legend.Legend at 0x7f1fcfde1700>"
            ]
          },
          "metadata": {},
          "execution_count": 15
        },
        {
          "output_type": "display_data",
          "data": {
            "text/plain": [
              "<Figure size 432x288 with 1 Axes>"
            ],
            "image/png": "[encoded data removed]"
          },
          "metadata": {
            "needs_background": "light"
          }
        }
      ]
    },
    {
      "cell_type": "code",
      "source": [],
      "metadata": {
        "id": "hh28di9Tyojn"
      },
      "execution_count": null,
      "outputs": []
    },
    {
      "cell_type": "code",
      "source": [
        "target = dataSet['Value'].values\n",
        "data  = dataSet['Year'].values\n",
        "target = target.reshape(-1, 1)\n",
        "data = data.reshape(-1, 1)"
      ],
      "metadata": {
        "id": "SBAvnh5Uz3-K"
      },
      "execution_count": null,
      "outputs": []
    },
    {
      "cell_type": "code",
      "source": [],
      "metadata": {
        "id": "PoRJa_Ogz485"
      },
      "execution_count": null,
      "outputs": []
    },
    {
      "cell_type": "code",
      "source": [
        "dt = PolynomialFeatures(4).fit_transform(data)"
      ],
      "metadata": {
        "id": "J5JIfQ-uzvBU"
      },
      "execution_count": null,
      "outputs": []
    },
    {
      "cell_type": "code",
      "source": [
        "# Standardisation\n",
        "scale= MinMaxScaler()\n",
        "df = scale.fit_transform(dt)\n",
        "print(target.shape, df.shape)"
      ],
      "metadata": {
        "colab": {
          "base_uri": "https://localhost:8080/"
        },
        "id": "LnrxAI09zvSO",
        "outputId": "280c5b29-e30c-4e53-9937-7e303668b1bd"
      },
      "execution_count": null,
      "outputs": [
        {
          "output_type": "stream",
          "name": "stdout",
          "text": [
            "(55, 1) (55, 5)\n"
          ]
        }
      ]
    },
    {
      "cell_type": "code",
      "source": [
        "X = target\n",
        "X = (X+np.min(X)) / (np.max(X) - np.min(X))"
      ],
      "metadata": {
        "id": "uv60rWrl0dh1"
      },
      "execution_count": null,
      "outputs": []
    },
    {
      "cell_type": "code",
      "source": [
        "#Divisons les données en ensemble d'entraînement et de test\n",
        "\n",
        "X_train,X_test,Y_train,Y_test = train_test_split(df,X,test_size=0.15, random_state=0)"
      ],
      "metadata": {
        "id": "d7ZUuyDv0oG-"
      },
      "execution_count": null,
      "outputs": []
    },
    {
      "cell_type": "code",
      "source": [
        "model_1 = SGDRegressor(random_state=0)\n",
        "model_2 = LinearRegression()\n",
        "model_3 = KNeighborsRegressor(n_neighbors=2)\n",
        "model_4 = SVR(kernel=\"rbf\", C=100, gamma=0.1, epsilon=0.1)\n",
        "\n",
        "for model in (model_1, model_2, model_3, model_4):\n",
        "    model.fit(X_train, Y_train)\n",
        "    print(model.__class__.__name__, model.score(X_test, Y_test))"
      ],
      "metadata": {
        "colab": {
          "base_uri": "https://localhost:8080/"
        },
        "id": "gGvW_7ac0sOe",
        "outputId": "009d96a4-c3f6-409f-b085-f234dd3f0ad1"
      },
      "execution_count": null,
      "outputs": [
        {
          "output_type": "stream",
          "name": "stdout",
          "text": [
            "SGDRegressor -0.41658328566836755\n",
            "LinearRegression 0.8834472627991155\n",
            "KNeighborsRegressor 0.9719843267620693\n",
            "SVR -0.27910297103513915\n"
          ]
        }
      ]
    },
    {
      "cell_type": "code",
      "source": [
        "model = KNeighborsRegressor()\n",
        "k = np.arange(1, 10)\n",
        "\n",
        "train_score, val_score = validation_curve(model, X_train, Y_train,\n",
        "                                          param_name='n_neighbors',\n",
        "                                          param_range=k, cv=5)\n",
        "\n",
        "plt.plot(k, val_score.mean(axis=1), label='validation')\n",
        "plt.plot(k, train_score.mean(axis=1), label='train')\n",
        "\n",
        "plt.ylabel('score')\n",
        "plt.xlabel('n_neighbors')\n",
        "plt.legend()"
      ],
      "metadata": {
        "colab": {
          "base_uri": "https://localhost:8080/",
          "height": 297
        },
        "id": "hxMIpz4R0xaW",
        "outputId": "fc5fb029-2bcd-4044-9da2-aa16d26fb6d2"
      },
      "execution_count": null,
      "outputs": [
        {
          "output_type": "execute_result",
          "data": {
            "text/plain": [
              "<matplotlib.legend.Legend at 0x7f1fcccb31f0>"
            ]
          },
          "metadata": {},
          "execution_count": 22
        },
        {
          "output_type": "display_data",
          "data": {
            "text/plain": [
              "<Figure size 432x288 with 1 Axes>"
            ],
            "image/png": "[encoded data removed]"
          },
          "metadata": {
            "needs_background": "light"
          }
        }
      ]
    },
    {
      "cell_type": "code",
      "source": [
        "# le nombre de voisins optimal est aux environs de 10\n",
        "model = KNeighborsRegressor(2)\n",
        "model.fit(X_train,Y_train)\n",
        "model.score(X_test,Y_test)"
      ],
      "metadata": {
        "colab": {
          "base_uri": "https://localhost:8080/"
        },
        "id": "wFk2CWuC1KAC",
        "outputId": "cda8d395-1dec-42a7-d36e-fe0b66c13f37"
      },
      "execution_count": null,
      "outputs": [
        {
          "output_type": "execute_result",
          "data": {
            "text/plain": [
              "0.9719843267620693"
            ]
          },
          "metadata": {},
          "execution_count": 23
        }
      ]
    },
    {
      "cell_type": "code",
      "source": [
        "ypred = model.predict(X_test)"
      ],
      "metadata": {
        "id": "w5CXxCOq1eMU"
      },
      "execution_count": null,
      "outputs": []
    },
    {
      "cell_type": "code",
      "source": [
        "# courbe de comparaison des prédictions et valeurs réelles\n",
        "plt.figure(figsize=(8,4))\n",
        "plt.plot(ypred, '-r', Y_test, '-b')\n",
        "plt.show()"
      ],
      "metadata": {
        "colab": {
          "base_uri": "https://localhost:8080/",
          "height": 265
        },
        "id": "TZIlrKT_1jcZ",
        "outputId": "91125a9d-e421-4c68-bd01-0b8dfd31b429"
      },
      "execution_count": null,
      "outputs": [
        {
          "output_type": "display_data",
          "data": {
            "text/plain": [
              "<Figure size 576x288 with 1 Axes>"
            ],
            "image/png": "[encoded data removed]"
          },
          "metadata": {
            "needs_background": "light"
          }
        }
      ]
    },
    {
      "cell_type": "code",
      "source": [
        "from sklearn.metrics import mean_squared_error, mean_absolute_error"
      ],
      "metadata": {
        "id": "vSRYVWbu1nJ8"
      },
      "execution_count": null,
      "outputs": []
    },
    {
      "cell_type": "code",
      "source": [
        "mse = mean_squared_error(Y_test, ypred)\n",
        "mae = mean_absolute_error(Y_test,ypred)\n",
        "print(\"MSE: \", mse)\n",
        "print(\"RMSE: \", mse**(1/2.0))\n",
        "print(\"MAE :\",mae)"
      ],
      "metadata": {
        "colab": {
          "base_uri": "https://localhost:8080/"
        },
        "id": "JhR6K6Kf14Rc",
        "outputId": "cad60b14-f3b7-4f3e-ce37-414be855ae34"
      },
      "execution_count": null,
      "outputs": [
        {
          "output_type": "stream",
          "name": "stdout",
          "text": [
            "MSE:  0.00023193518102477783\n",
            "RMSE:  0.015229418275980794\n",
            "MAE : 0.0067200577749547095\n"
          ]
        }
      ]
    },
    {
      "cell_type": "code",
      "source": [],
      "metadata": {
        "id": "RtiLQSAt17o9"
      },
      "execution_count": null,
      "outputs": []
    }
  ]
}