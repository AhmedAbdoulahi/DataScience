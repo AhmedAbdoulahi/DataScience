{
  "nbformat": 4,
  "nbformat_minor": 0,
  "metadata": {
    "colab": {
      "provenance": [],
      "authorship_tag": "ABX9TyPY1/KRb9IAKGaHYQLEKMFn",
      "include_colab_link": true
    },
    "kernelspec": {
      "name": "python3",
      "display_name": "Python 3"
    },
    "language_info": {
      "name": "python"
    }
  },
  "cells": [
    {
      "cell_type": "markdown",
      "metadata": {
        "id": "view-in-github",
        "colab_type": "text"
      },
      "source": [
        "<a href=\"https://colab.research.google.com/github/AhmedAbdoulahi/DataScience/blob/master/python_bases.ipynb\" target=\"_parent\"><img src=\"https://colab.research.google.com/assets/colab-badge.svg\" alt=\"Open In Colab\"/></a>"
      ]
    },
    {
      "cell_type": "markdown",
      "source": [
        "Cours Python"
      ],
      "metadata": {
        "id": "f7RjZW_dOB86"
      }
    },
    {
      "cell_type": "markdown",
      "source": [],
      "metadata": {
        "id": "t_uK4QIUP2_L"
      }
    },
    {
      "cell_type": "code",
      "execution_count": null,
      "metadata": {
        "colab": {
          "base_uri": "https://localhost:8080/"
        },
        "id": "SjhlDkziOAC2",
        "outputId": "09a6bbad-e112-458e-cdb0-6be45ddfbfae"
      },
      "outputs": [
        {
          "output_type": "stream",
          "name": "stdout",
          "text": [
            "2 <class 'int'>\n",
            "2.0 <class 'float'>\n",
            "bonjour <class 'str'>\n",
            "le 3e element de C est :  n  et son type est  <class 'str'>\n",
            "shhhhhhhhhhhhhhhhhhhhhhhhhhhhhhhhhhhhhhhhhhhhhhhhhhhhhhhferhffffffffffffffffffffffffffffffje <class 'str'>\n",
            "shhhhhhhhhhhhhhhhhhhhhhhhhhhhhhhhhhhhhhhhhhhhhhhhhhhhhhhferhffffffffffffffffffffffffffffffje <class 'str'>\n",
            "a vaut  2000000.0  et son type est  <class 'float'>\n"
          ]
        }
      ],
      "source": [
        "# Les variables et leur types\n",
        "# python est un langage interprete contrairement à C et aux java qui un melange des deux\n",
        "# NB : en python meme les types primitifs sont des objets, car ils sont implementes sous formes de classes\n",
        "a = 2\n",
        "print(a,type(a) )\n",
        "\n",
        "b = 2.\n",
        "print(b, type(b))\n",
        "\n",
        "c = \"bonjour\"\n",
        "print(c, type(c))\n",
        "\n",
        "c2 = c[2]\n",
        "print(\"le 3e element de C est : \",c2, \" et son type est \",type(c2))\n",
        "\n",
        "d = \"shhhhhhhhhhhhhhhhhhhhhhhhhhhhhhhhhhhhhhhhhhhhhhhhhhhhhhhferhffffffffffffffffffffffffffffffje\"\n",
        "print(d, type(d))\n",
        "\n",
        "e = 100000000000000000000000000000000000000000000000000000000000000000000000000000000000000000\n",
        "print(d, type(d))\n",
        "\n",
        "#Notation scientifique\n",
        "a = 2e6\n",
        "print(\"a vaut \",a,\" et son type est \", type(a))"
      ]
    },
    {
      "cell_type": "code",
      "source": [
        "#f-string, un elegant style d'affichage\n",
        "print(f'l\\'entier a est {a} et l\\'entier b est {b}')\n",
        "# la conversion explicite en chaine\n",
        "print(\"l'entier a est\"+str(a))"
      ],
      "metadata": {
        "colab": {
          "base_uri": "https://localhost:8080/"
        },
        "id": "slPug4N7Y6B7",
        "outputId": "5b43907f-da55-4857-98e8-d382535cf435"
      },
      "execution_count": null,
      "outputs": [
        {
          "output_type": "stream",
          "name": "stdout",
          "text": [
            "l'entier a est 2000000.0 et l'entier b est 2.0\n",
            "l'entier a est2000000.0\n"
          ]
        }
      ]
    },
    {
      "cell_type": "code",
      "source": [
        "#boolean : en python c'est True ou False, d'autres conditions peuvent generer un type bool\n",
        "\n",
        "t = True\n",
        "f = False\n",
        "i = type(t)\n",
        "j = type(f)\n",
        "print(f' t vaut {t} et f vaut {f} leur type est respectivement {type(t)} et {type(f)} ')\n",
        "\n",
        "t = 10>3\n",
        "print(f'La variable t vaut {t} et son type est {type(t)}')"
      ],
      "metadata": {
        "colab": {
          "base_uri": "https://localhost:8080/"
        },
        "id": "UzpWwcsbeqL8",
        "outputId": "43688b31-9212-46f2-d5c4-327fdf896b29"
      },
      "execution_count": null,
      "outputs": [
        {
          "output_type": "stream",
          "name": "stdout",
          "text": [
            " t vaut True et f vaut False leur type est respectivement <class 'bool'> et <class 'bool'> \n",
            "La variable t vaut True et son type est <class 'bool'>\n"
          ]
        }
      ]
    },
    {
      "cell_type": "code",
      "source": [
        "#Une variable peut changer de type car ce sont des pointeurs vers des instances de classses\n",
        "a = 2\n",
        "print(f' l\\'entier vaut {a} et son type {type(a)}')\n",
        "\n",
        "a=3.0\n",
        "print(f' l\\'entier vaut {a} et son type {type(a)}')\n",
        "\n",
        "#On constate bien que le type de la variable a change au cours du programme, car Python ne type pas ses variables. Au nal,\n",
        "#on peut voir a comme un pointeur qui pourra, au cours de sa vie, librement pointer vers diérents types d'objets."
      ],
      "metadata": {
        "colab": {
          "base_uri": "https://localhost:8080/"
        },
        "id": "dsPtG6HAjuLH",
        "outputId": "00d4efc9-fe14-405b-fb8c-360f23d0b386"
      },
      "execution_count": null,
      "outputs": [
        {
          "output_type": "stream",
          "name": "stdout",
          "text": [
            " l'entier vaut 2 et son type <class 'int'>\n",
            " l'entier vaut 3.0 et son type <class 'float'>\n"
          ]
        }
      ]
    },
    {
      "cell_type": "code",
      "source": [
        "#Taille mémoire des variables\n",
        "import sys\n",
        "# on verifie la taille grace a getsizeof de la libraries sys\n",
        "a = 246555666555555\n",
        "print(f' a vaut {a}, son type est {type(a)} et sa taille vaut {sys.getsizeof(a)}')\n",
        "\n",
        "a = 246.55\n",
        "print(f' a vaut {a}, son type est {type(a)} et sa taille vaut {sys.getsizeof(a)}')\n",
        "\n",
        "a = \"246555666555555\"\n",
        "print(f' a vaut {a}, son type est {type(a)} et sa taille vaut {sys.getsizeof(a)}')"
      ],
      "metadata": {
        "colab": {
          "base_uri": "https://localhost:8080/"
        },
        "id": "uylaSve2oraz",
        "outputId": "7034281b-3328-431d-d419-c56875e9cb3e"
      },
      "execution_count": null,
      "outputs": [
        {
          "output_type": "stream",
          "name": "stdout",
          "text": [
            " a vaut 246555666555555, son type est <class 'int'> et sa taille vaut 32\n",
            " a vaut 246.55, son type est <class 'float'> et sa taille vaut 24\n",
            " a vaut 246555666555555, son type est <class 'str'> et sa taille vaut 64\n"
          ]
        }
      ]
    },
    {
      "cell_type": "code",
      "source": [
        "#Conversion explicite de type\n",
        "a = 2\n",
        "b = float(a)\n",
        "print(f' a est egal à {a} {type(a)} avant et apres conversion {b} {type(b)}')\n",
        "\n",
        "a = '1010'\n",
        "c = int(a,2) #convertir a en base 2 --> type(var,base_actuel)\n",
        "print(f' {a} = {c}')\n",
        "\n",
        "a = '0x10F6'\n",
        "c = int(a,16)\n",
        "print(f' {a} {type(a)} apres conversion {c} {type(c)}')\n",
        "\n",
        "a = 10\n",
        "c = str(10)\n",
        "print(f' {a} {type(a)} apres conversion {c} {type(c)}')\n",
        "\n",
        "# d'autres type de variables : complex, enum\n",
        "z = complex(3, 8)\n",
        "print(\"type complex z = \",z)\n"
      ],
      "metadata": {
        "colab": {
          "base_uri": "https://localhost:8080/"
        },
        "id": "4kXRhVKeiBwL",
        "outputId": "6eca3492-d33d-41da-e4a7-181835db8509"
      },
      "execution_count": null,
      "outputs": [
        {
          "output_type": "stream",
          "name": "stdout",
          "text": [
            " a est egal à 2 <class 'int'> avant et apres conversion 2.0 <class 'float'>\n",
            " 1010 = 10\n",
            " 0x10F6 <class 'str'> apres conversion 4342 <class 'int'>\n",
            " 10 <class 'int'> apres conversion 10 <class 'str'>\n",
            "type complex z =  (3+8j)\n"
          ]
        }
      ]
    },
    {
      "cell_type": "code",
      "source": [
        "# type enumeration\n",
        "from enum import Enum\n",
        "\n",
        "class Forme(Enum) :\n",
        "  cercle = 1\n",
        "  carre = 2\n",
        "  triangle = 3\n",
        "\n",
        "class Jour(Enum) :\n",
        "  lundi = 1\n",
        "  Mardi = 2\n",
        "  Mercredi = 3\n",
        "  Jeudi = 4\n",
        "  Vendredi = 5\n",
        "  Samedi = 6\n",
        "  Dimanche = 7\n",
        "\n",
        "#parcourir et afficher\n",
        "for s in Forme :\n",
        "  print(s)\n",
        "\n",
        "for j in Jour :\n",
        "  print(j)\n",
        "\n"
      ],
      "metadata": {
        "colab": {
          "base_uri": "https://localhost:8080/"
        },
        "id": "0KM262caTQ5f",
        "outputId": "74fe12bf-b391-4868-d4d5-bb0a5da0a026"
      },
      "execution_count": null,
      "outputs": [
        {
          "output_type": "stream",
          "name": "stdout",
          "text": [
            "Forme.cercle\n",
            "Forme.carre\n",
            "Forme.triangle\n",
            "Jour.lundi\n",
            "Jour.Mardi\n",
            "Jour.Mercredi\n",
            "Jour.Jeudi\n",
            "Jour.Vendredi\n",
            "Jour.Samedi\n",
            "Jour.Dimanche\n"
          ]
        }
      ]
    },
    {
      "cell_type": "code",
      "source": [
        "#pointeur null en python c'est None, c'est l'exemple de cette fonction qui es cense retourner qqch mais rien au fait\n",
        "def som(x):\n",
        "  x *= 2\n",
        "  return\n",
        "\n",
        "print(som(2))"
      ],
      "metadata": {
        "colab": {
          "base_uri": "https://localhost:8080/"
        },
        "id": "wE8T7KxJYS_n",
        "outputId": "23416cf8-93e5-4636-c582-9fad3eac62a1"
      },
      "execution_count": null,
      "outputs": [
        {
          "output_type": "stream",
          "name": "stdout",
          "text": [
            "None\n"
          ]
        }
      ]
    },
    {
      "cell_type": "code",
      "source": [
        "#Interaction avec l'utilisateur : print et input\n",
        "# print : affiche\n",
        "# input : affiche mais aussi renvoie la valeur saisi sous forme de chaine de caractere, dans ce cas il faut toujours convertir si int ou float ou autres types\n",
        "nom = input(\"entrer votre nom : \")\n",
        "print(f\"je m'appelle {nom}\")\n",
        "\n",
        "#donc la il faut convertir la chaine de retour en int sinon str\n",
        "age = int(input(\"quel est votre age : \"))\n",
        "print(f\"J'ai {age} ans\")\n"
      ],
      "metadata": {
        "colab": {
          "base_uri": "https://localhost:8080/"
        },
        "id": "VBKMI9tKZsWe",
        "outputId": "31e36fbb-9e4a-4af9-873a-6f2f14acbbfe"
      },
      "execution_count": null,
      "outputs": [
        {
          "output_type": "stream",
          "name": "stdout",
          "text": [
            "entrer votre nom : ABDOULAHI SALAHANNE Ahmed\n",
            "je m'appelle ABDOULAHI SALAHANNE Ahmed\n",
            "quel est votre age : 22\n",
            "J'ai 22 ans\n"
          ]
        }
      ]
    },
    {
      "cell_type": "code",
      "source": [
        "#Quelques Constantes mathématiques\n",
        "import math\n",
        "\n",
        "print(f\"la constante pi = {math.pi}\")\n",
        "print(f\"e = {math.e}\")\n",
        "print(f\" not a number = {math.nan}\")\n"
      ],
      "metadata": {
        "colab": {
          "base_uri": "https://localhost:8080/"
        },
        "id": "QFLHxXhDbPtc",
        "outputId": "df6f513e-026b-43a8-94ec-c9953b75c138"
      },
      "execution_count": null,
      "outputs": [
        {
          "output_type": "stream",
          "name": "stdout",
          "text": [
            "la constante pi = 3.141592653589793\n",
            "e = 2.718281828459045\n",
            " not a number = nan\n"
          ]
        }
      ]
    },
    {
      "cell_type": "code",
      "source": [
        "# Opérateurs numériques binaires\n",
        "a = 5\n",
        "b = 2\n",
        "print(f\"a+b = {a+b}\") # a += b\n",
        "print(f\"a*b = {a*b}\") # a *= b\n",
        "print(f\"a-b = {a-b}\") # a -= b\n",
        "print(f\"a/b = {a/b}\") # a /= b\n",
        "print(f\"division unitaire : a//b = {a//b}\") # a //= b\n",
        "print(f\"a**b = {a**b}\") # a **= b\n",
        "print(f\"modulo : a%b = {a%b}\") # a %= b"
      ],
      "metadata": {
        "colab": {
          "base_uri": "https://localhost:8080/"
        },
        "id": "KgJ4inxCctdt",
        "outputId": "87f6352f-be6b-4653-ea9a-e1db1f3866de"
      },
      "execution_count": null,
      "outputs": [
        {
          "output_type": "stream",
          "name": "stdout",
          "text": [
            "a+b = 7\n",
            "a*b = 10\n",
            "a-b = 3\n",
            "a/b = 2.5\n",
            "division unitaire : a//b = 2\n",
            "a**b = 25\n",
            "modulo : a%b = 1\n"
          ]
        }
      ]
    },
    {
      "cell_type": "code",
      "source": [
        "# l'operateur = egal ne marche que entre deux objet du coup a peut etre vu comme un pointeur qui pointe sur l'emplacement 3\n",
        "#pour connaitre l'adresse on utilse id\n",
        "a = 3\n",
        "b = 4\n",
        "c = 6\n",
        "print(id(a))\n",
        "print(id(b))\n",
        "print(id(c))\n",
        "\n",
        "b = a\n",
        "print(id(b))\n",
        "#id affiche l'adresse memoire ou est stocker une valeur"
      ],
      "metadata": {
        "colab": {
          "base_uri": "https://localhost:8080/"
        },
        "id": "Dfk4309UemHN",
        "outputId": "6776a484-a938-43eb-838c-eb9bfcc9cdd5"
      },
      "execution_count": null,
      "outputs": [
        {
          "output_type": "stream",
          "name": "stdout",
          "text": [
            "134417919951152\n",
            "134417919951184\n",
            "134417919951248\n",
            "134417919951152\n"
          ]
        }
      ]
    },
    {
      "cell_type": "code",
      "source": [
        "# Fonctions mathématiques à connaître\n",
        "import math\n",
        "\n",
        "a = 0.5\n",
        "b = 0.75\n",
        "\n",
        "# y a toutes les fonctoons trigonometriques pas que les deux : acos, asin, tan, tanh etc ...\n",
        "print(f\"cos(0.5) = {math.cos(a)}\")\n",
        "print(f\"sin(0.5) = {math.sin(a)}\")\n",
        "\n",
        "print(f\"min(0.5,0.75) = {min(a,b)}\")\n",
        "print(f\"max(0.5,0.75) = {max(a,b)}\")\n",
        "print(f\"sqrt(0.5) = {math.sqrt(a)}\")\n",
        "print(f\"pow(a,2) = {math.pow(a,2)}\")\n",
        "print(f\"floor(a) = {math.floor(a)}\")\n"
      ],
      "metadata": {
        "colab": {
          "base_uri": "https://localhost:8080/"
        },
        "id": "LsPh4ECbgWLg",
        "outputId": "7e8065c3-6804-43da-e751-a3180a37d98a"
      },
      "execution_count": null,
      "outputs": [
        {
          "output_type": "stream",
          "name": "stdout",
          "text": [
            "cos(0.5) = 0.8775825618903728\n",
            "sin(0.5) = 0.479425538604203\n",
            "min(0.5,0.75) = 0.5\n",
            "max(0.5,0.75) = 0.75\n",
            "sqrt(0.5) = 0.7071067811865476\n",
            "pow(a,2) = 0.25\n",
            "floor(a) = 0\n"
          ]
        }
      ]
    },
    {
      "cell_type": "code",
      "source": [
        "#une fonction recursives de fibonacci\n",
        "\n",
        "def fib(a) :\n",
        "  if a == 0 :\n",
        "    return 0\n",
        "  elif a == 1 :\n",
        "    return 1\n",
        "  else :\n",
        "    return fib(a-2) + fib (a-1)\n",
        "\n",
        "\n",
        "a = 5\n",
        "b = fib(a)\n",
        "print(b)"
      ],
      "metadata": {
        "colab": {
          "base_uri": "https://localhost:8080/"
        },
        "id": "BzNOKh-zemZO",
        "outputId": "96efb564-5b08-427d-f3df-820d386b5855"
      },
      "execution_count": null,
      "outputs": [
        {
          "output_type": "stream",
          "name": "stdout",
          "text": [
            "5\n"
          ]
        }
      ]
    },
    {
      "cell_type": "code",
      "source": [
        "# Opérations sur les chaînes de caractères\n",
        "\n",
        "nom = \"ABDOULAHI SALAHANNE\"\n",
        "c = \"chaine\"\n",
        "c1 = \"ne\"\n",
        "c2 =\"NB\"\n",
        "print(c.capitalize()) # capitalize met le 1er element en majiscule\n",
        "print(c2.capitalize()) # si la cahaine est deha en majiscule, sa met la 1ere lettre en maj et le reste en miniscule\n",
        "print(c.endswith(c1)) # renvoie vrai si la chaine se termine par la sous-chaine specifier\n",
        "print(c.startswith(c1)) # renvoie vrai si la chaine debite avec la sous chaine en argument\n",
        "print(c.find(c1)) # recherche la position de la c1 dans la chaine c\n",
        "print(c.index(c1)) # meme chose que find mais si sa trouve rien une exception est generer\n",
        "# isdecimal, isupper, islower : tous des test et renvoie vrai si verifier\n",
        "# c.upper, c.lower : nvelle chaine soit majiscule soit miniscule\n",
        "# a.replace(s, c) dans la chaine a, remplace toutes les chaines s par c\n",
        "# a.split(c) la chaine est decouper a toutes les occurences de la chaine c\n",
        "\n"
      ],
      "metadata": {
        "colab": {
          "base_uri": "https://localhost:8080/"
        },
        "id": "pA__fBcNp2TP",
        "outputId": "60d17abf-7d17-4140-ba85-4425409d2523"
      },
      "execution_count": null,
      "outputs": [
        {
          "output_type": "stream",
          "name": "stdout",
          "text": [
            "Chaine\n",
            "Nb\n",
            "True\n",
            "False\n",
            "4\n",
            "4\n"
          ]
        }
      ]
    },
    {
      "cell_type": "markdown",
      "source": [
        "**Chapitre 2**\n",
        "**Variables avancées en Python - Les séquences et collections**"
      ],
      "metadata": {
        "id": "YbktPGzkvg_r"
      }
    },
    {
      "cell_type": "code",
      "source": [
        "s1 = \"0033548\"\n",
        "s2 = \"+337845\"\n",
        "s3 = '0'+ s2.lstrip('+33') or '0'+ s2.lstrip('0033')\n",
        "print(s3)\n",
        "\n",
        "s = [\"\".join(i) for i in s2 if i!='+']\n",
        "s = \"\".join(s)\n",
        "print(s)"
      ],
      "metadata": {
        "id": "4F-4PVdVp2bi",
        "colab": {
          "base_uri": "https://localhost:8080/"
        },
        "outputId": "823985b8-e087-4dc7-f2f7-5a4838a514da"
      },
      "execution_count": null,
      "outputs": [
        {
          "output_type": "stream",
          "name": "stdout",
          "text": [
            "07845\n",
            "337845\n"
          ]
        }
      ]
    },
    {
      "cell_type": "code",
      "source": [
        "def format_phone_number(c) :\n",
        "  #transformation de la chaine de caractere en liste\n",
        "  l = list(c.strip())\n",
        "  print(l)\n",
        "\n",
        "  # exclusion sauf les nombre et '+'\n",
        "  l = [\"\".join(i) for i in l if i.isdigit() or i=='+']\n",
        "  print(l)\n",
        "  #transformation de la liste en chaine de caractere\n",
        "  c = \"\".join(l)\n",
        "  print(c)\n",
        "\n",
        "  #retirer 0033 ou +33 et remplacer par zero\n",
        "  c = '0'+ c.lstrip('+33') or '0'+ c.lstrip('0033')\n",
        "  c = [i for i in c if i.isdigit()] #retirer les '+'\n",
        "  c = \"\".join(c)\n",
        "  print(c)\n",
        "  print(c[0])\n",
        "  #si la chaine ne commence pas par zero ou n'a pas la taille de 10 chiffres on return false,None\n",
        "  if c[0]!='0' or len(c) < 10 :\n",
        "    return False,None\n",
        "  #on construit la liste final sinon deux a deux\n",
        "  else :\n",
        "    c = [c[i:i+2] for i in range(0,len(c), 2)]\n",
        "    c = \" \".join(c)\n",
        "    return True,c\n",
        "\n",
        "\n",
        "\n",
        "c = \"33 5 89 74 12 2\"\n",
        "format_phone_number(c)"
      ],
      "metadata": {
        "colab": {
          "base_uri": "https://localhost:8080/"
        },
        "id": "qz4hJvVFq6wz",
        "outputId": "f3da6d2b-7b2c-40b0-938b-636d99449a16"
      },
      "execution_count": null,
      "outputs": [
        {
          "output_type": "stream",
          "name": "stdout",
          "text": [
            "['3', '3', ' ', '5', ' ', '8', '9', ' ', '7', '4', ' ', '1', '2', ' ', '2']\n",
            "['3', '3', '5', '8', '9', '7', '4', '1', '2', '2']\n",
            "3358974122\n",
            "058974122\n",
            "0\n"
          ]
        },
        {
          "output_type": "execute_result",
          "data": {
            "text/plain": [
              "(False, None)"
            ]
          },
          "metadata": {},
          "execution_count": 48
        }
      ]
    },
    {
      "cell_type": "code",
      "source": [],
      "metadata": {
        "id": "K9_ADwHQdX8e"
      },
      "execution_count": null,
      "outputs": []
    },
    {
      "cell_type": "markdown",
      "source": [
        "split() permet notamment de décomposer un phrase en une liste de mots et inversement join() permet de mettre bout à bout une liste de mots"
      ],
      "metadata": {
        "id": "4ev3n4PXTY3m"
      }
    },
    {
      "cell_type": "code",
      "source": [
        "texte = \"Bonjour le monde !\"\n",
        "texte = \" \".join(texte)\n",
        "print(texte)\n",
        "\n",
        "mots = texte.split()\n",
        "print(mots[3])\n",
        "mots[3] = \"M\"\n",
        "print(mots)\n",
        "texte = \" \".join(mots)\n",
        "print(texte)\n",
        "\n",
        "s = \"je suis Ahmed et toi?\"\n",
        "t = ['j','e',' ','s','u','i','s']\n",
        "print(s.split())\n",
        "print(\"\".join(t))"
      ],
      "metadata": {
        "colab": {
          "base_uri": "https://localhost:8080/"
        },
        "id": "Gh5jyD7LTeXF",
        "outputId": "503f0097-677e-4c12-b89d-e35762b86368"
      },
      "execution_count": null,
      "outputs": [
        {
          "output_type": "stream",
          "name": "stdout",
          "text": [
            "B o n j o u r   l e   m o n d e   !\n",
            "j\n",
            "['B', 'o', 'n', 'M', 'o', 'u', 'r', 'l', 'e', 'm', 'o', 'n', 'd', 'e', '!']\n",
            "B o n M o u r l e m o n d e !\n",
            "['je', 'suis', 'Ahmed', 'et', 'toi?']\n",
            "je suis\n"
          ]
        }
      ]
    }
  ]
}