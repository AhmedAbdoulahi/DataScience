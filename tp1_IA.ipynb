{
  "nbformat": 4,
  "nbformat_minor": 0,
  "metadata": {
    "colab": {
      "provenance": [],
      "authorship_tag": "ABX9TyOf6mPnm2oew3XihNOJdEv9",
      "include_colab_link": true
    },
    "kernelspec": {
      "name": "python3",
      "display_name": "Python 3"
    },
    "language_info": {
      "name": "python"
    }
  },
  "cells": [
    {
      "cell_type": "markdown",
      "metadata": {
        "id": "view-in-github",
        "colab_type": "text"
      },
      "source": [
        "<a href=\"https://colab.research.google.com/github/AhmedAbdoulahi/DataScience/blob/master/tp1_IA.ipynb\" target=\"_parent\"><img src=\"https://colab.research.google.com/assets/colab-badge.svg\" alt=\"Open In Colab\"/></a>"
      ]
    },
    {
      "cell_type": "markdown",
      "source": [
        "TP1 : Programmation IA"
      ],
      "metadata": {
        "id": "FGx37Msf93gE"
      }
    },
    {
      "cell_type": "code",
      "source": [
        "#1 afficher un tab comme en C (beurk!)\n",
        "\n",
        "tab = ['a', 2, 3.14]\n",
        "for i in range(0,len(tab)):\n",
        "  print(tab[i])"
      ],
      "metadata": {
        "colab": {
          "base_uri": "https://localhost:8080/"
        },
        "id": "s1i9oGWN-FYs",
        "outputId": "321f383c-4caa-40aa-fa66-f56ce0c27357"
      },
      "execution_count": null,
      "outputs": [
        {
          "output_type": "stream",
          "name": "stdout",
          "text": [
            "a\n",
            "2\n",
            "3.14\n"
          ]
        }
      ]
    },
    {
      "cell_type": "code",
      "source": [
        "print('bonjour tout le monde')"
      ],
      "metadata": {
        "colab": {
          "base_uri": "https://localhost:8080/"
        },
        "id": "aOYsFjiR-FU_",
        "outputId": "f94e62eb-5d7d-4dc4-abe7-a184154bad8c"
      },
      "execution_count": null,
      "outputs": [
        {
          "output_type": "stream",
          "name": "stdout",
          "text": [
            "bonjour tout le monde\n"
          ]
        }
      ]
    },
    {
      "cell_type": "code",
      "source": [
        "#2 toujours C mais en utilisant les arguments prédéfinis (beurk aussi)\n",
        "for i in range(len(tab)):\n",
        "  print(tab[i])"
      ],
      "metadata": {
        "colab": {
          "base_uri": "https://localhost:8080/"
        },
        "id": "DfOLiHVV_1DA",
        "outputId": "41e25d85-7061-44f9-a591-034c38ecb1cb"
      },
      "execution_count": null,
      "outputs": [
        {
          "output_type": "stream",
          "name": "stdout",
          "text": [
            "a\n",
            "2\n",
            "3.14\n"
          ]
        }
      ]
    },
    {
      "cell_type": "code",
      "source": [
        "tab"
      ],
      "metadata": {
        "colab": {
          "base_uri": "https://localhost:8080/"
        },
        "id": "ytTqukGQAAlc",
        "outputId": "1dd5a7df-abed-4894-dcce-2f803a3f0d4b"
      },
      "execution_count": null,
      "outputs": [
        {
          "output_type": "execute_result",
          "data": {
            "text/plain": [
              "['a', 2, 3.14]"
            ]
          },
          "metadata": {},
          "execution_count": 9
        }
      ]
    },
    {
      "cell_type": "code",
      "source": [
        "# python!\n",
        "for e in tab:\n",
        "  print(e)"
      ],
      "metadata": {
        "colab": {
          "base_uri": "https://localhost:8080/"
        },
        "id": "f2wkY4KTAZkr",
        "outputId": "74c3706e-bf89-4504-bdfb-98ce48101cf8"
      },
      "execution_count": null,
      "outputs": [
        {
          "output_type": "stream",
          "name": "stdout",
          "text": [
            "a\n",
            "2\n",
            "3.14\n"
          ]
        }
      ]
    },
    {
      "cell_type": "code",
      "source": [
        "# definition\n",
        "def print_hello(user):\n",
        "  print('hello ' + user)\n",
        "\n",
        "# utilisation\n",
        "print_hello('Sam')\n"
      ],
      "metadata": {
        "colab": {
          "base_uri": "https://localhost:8080/"
        },
        "id": "bs8IKJZ4Afvq",
        "outputId": "5eec269a-f00b-4586-d90f-109efec3a4a9"
      },
      "execution_count": null,
      "outputs": [
        {
          "output_type": "stream",
          "name": "stdout",
          "text": [
            "hello Sam\n"
          ]
        }
      ]
    },
    {
      "cell_type": "code",
      "source": [
        "def retourne(tab): # inverse un tableau\n",
        "  if tab == []:\n",
        "    return []\n",
        "  else:  # concatenation (+) de\n",
        "    # 1. 'retourne' appliquee a tab sans le 1er element\n",
        "    # 2. le tableau constitué uniquement du premier element de tab\n",
        "    return retourne(tab[1:]) + tab[:1]\n",
        "\n",
        "\n",
        "# utilisation\n",
        "retourne ([1,2,3])"
      ],
      "metadata": {
        "colab": {
          "base_uri": "https://localhost:8080/"
        },
        "id": "UB5LudQCAvNm",
        "outputId": "72da1582-489c-4bbf-a3d6-4f3bdc21e81f"
      },
      "execution_count": null,
      "outputs": [
        {
          "output_type": "execute_result",
          "data": {
            "text/plain": [
              "[3, 2, 1]"
            ]
          },
          "metadata": {},
          "execution_count": 12
        }
      ]
    },
    {
      "cell_type": "code",
      "source": [
        "def tri_rapide(tab):\n",
        "  if tab == []:\n",
        "    return []\n",
        "  else:\n",
        "    pivot = tab[0]\n",
        "    # on selectionne les elements plus petits que pivot\n",
        "    pp = [x for x in tab[1:] if x < pivot]\n",
        "    # on selectionne les elements plus grands que pivot\n",
        "    pg = [x for x in tab[1:] if x > pivot]\n",
        "    return tri_rapide(pp) + [pivot] + tri_rapide(pg)"
      ],
      "metadata": {
        "id": "zWMP1PflBMH4"
      },
      "execution_count": null,
      "outputs": []
    },
    {
      "cell_type": "markdown",
      "source": [
        "## Exercice\n",
        "\n",
        "Définir une fonction 'fib' qui calcule la valeur de la suite de Fibonacci pour l'entier passé en paramètre\n"
      ],
      "metadata": {
        "id": "oguyYyCWBiM7"
      }
    },
    {
      "cell_type": "code",
      "source": [
        "#code fibonacci\n",
        "def fib(a):\n",
        "  if a == 2 :\n",
        "    return 1 ;\n",
        "  return fib(a-1) + fib(a-2)\n"
      ],
      "metadata": {
        "id": "aZ0QcbaBBkyj"
      },
      "execution_count": null,
      "outputs": []
    },
    {
      "cell_type": "code",
      "source": [],
      "metadata": {
        "id": "CvRGTDYOBp7I"
      },
      "execution_count": null,
      "outputs": []
    },
    {
      "cell_type": "code",
      "source": [],
      "metadata": {
        "id": "QBqXEToPEI5q"
      },
      "execution_count": null,
      "outputs": []
    },
    {
      "cell_type": "code",
      "source": [],
      "metadata": {
        "id": "NZ_CsIQvEJFQ"
      },
      "execution_count": null,
      "outputs": []
    },
    {
      "cell_type": "code",
      "source": [],
      "metadata": {
        "id": "lRn5W_SjEJIl"
      },
      "execution_count": null,
      "outputs": []
    },
    {
      "cell_type": "markdown",
      "source": [
        "# Pytorch\n",
        "\n",
        "Bibliothèque pour le calcul scientifique (à la Matlab...) orientée pour l'apprentissage automatique et les rééseaux de neurones\n",
        "\n",
        "Pour l'utiliser, il faut commencer par l'importer avec la directive *import*. En python on doit préfixer les fonctions d'un module par le nom de ce module. En pratique on renomme le nom du module pour quelque chose de plus court. Ici, on renomme *torch* en *t*, et toutes les fonctions de cette bibliothèque devront être précédées par *t.* (t suivi de point)."
      ],
      "metadata": {
        "id": "aFykRIFjERVX"
      }
    },
    {
      "cell_type": "code",
      "source": [],
      "metadata": {
        "id": "ldSLPhoaEpbZ"
      },
      "execution_count": null,
      "outputs": []
    },
    {
      "cell_type": "markdown",
      "source": [
        "## Vecteurs et matrices\n",
        "\n",
        "Contrairement aux listes python, *pytorch* permet de définir des vecteurs, des matrices, et plus généralement des tenseurs typés sur lesquels les opérations mathématiques sont efficaces.\n",
        "\n",
        "- le type *tensor*\n",
        " - création à partir d'une liste donnera un vecteur\n"
      ],
      "metadata": {
        "id": "2TtzfrZyFLBD"
      }
    },
    {
      "cell_type": "code",
      "source": [
        "import torch as t\n",
        "\n",
        "print(t.__version__)"
      ],
      "metadata": {
        "colab": {
          "base_uri": "https://localhost:8080/"
        },
        "id": "5ku0uruzETlG",
        "outputId": "77244526-8c3c-4cdf-f631-577c2b54c8ab"
      },
      "execution_count": null,
      "outputs": [
        {
          "output_type": "stream",
          "name": "stdout",
          "text": [
            "2.0.1+cu118\n"
          ]
        }
      ]
    },
    {
      "cell_type": "code",
      "source": [
        "#ici on aura un vecteur d'entiers (car tous les éléments sont entiers)\n",
        "a = t.tensor([3,2,1])\n",
        "print(a, type(a), a.dtype)"
      ],
      "metadata": {
        "colab": {
          "base_uri": "https://localhost:8080/"
        },
        "id": "qb2DIFXdFPgQ",
        "outputId": "29c22691-7fac-4729-e574-5cda617563b0"
      },
      "execution_count": null,
      "outputs": [
        {
          "output_type": "stream",
          "name": "stdout",
          "text": [
            "tensor([3, 2, 1]) <class 'torch.Tensor'> torch.int64\n"
          ]
        }
      ]
    },
    {
      "cell_type": "code",
      "source": [
        "# attention le type des données ne se voit pas sur le type mais sur le dtype\n",
        "a = t.tensor([3,2,1.0])\n",
        "print(a, type(a), a.dtype)"
      ],
      "metadata": {
        "colab": {
          "base_uri": "https://localhost:8080/"
        },
        "id": "nyWEKJOAFeUT",
        "outputId": "9c0cbd88-2eb4-48de-8f7c-788211393fb5"
      },
      "execution_count": null,
      "outputs": [
        {
          "output_type": "stream",
          "name": "stdout",
          "text": [
            "tensor([3., 2., 1.]) <class 'torch.Tensor'> torch.float32\n"
          ]
        }
      ]
    },
    {
      "cell_type": "code",
      "source": [
        "#on peut directement spécifier le dtype\n",
        "t.tensor([3,2,1], dtype=float)"
      ],
      "metadata": {
        "colab": {
          "base_uri": "https://localhost:8080/"
        },
        "id": "x02Q5kWbFmn_",
        "outputId": "d4d26113-dc7d-4bea-9e1f-80599d30ae28"
      },
      "execution_count": null,
      "outputs": [
        {
          "output_type": "execute_result",
          "data": {
            "text/plain": [
              "tensor([3., 2., 1.], dtype=torch.float64)"
            ]
          },
          "metadata": {},
          "execution_count": 21
        }
      ]
    },
    {
      "cell_type": "code",
      "source": [
        "m = t.tensor([[1,2,3],[4,5,6]])\n",
        "print(m, type(m),m.dtype, m.size(), m.shape)"
      ],
      "metadata": {
        "colab": {
          "base_uri": "https://localhost:8080/"
        },
        "id": "iiC7fAT2F5Ki",
        "outputId": "5d2c8ab7-c3ff-42a9-e116-e63b3273752c"
      },
      "execution_count": null,
      "outputs": [
        {
          "output_type": "stream",
          "name": "stdout",
          "text": [
            "tensor([[1, 2, 3],\n",
            "        [4, 5, 6]]) <class 'torch.Tensor'> torch.int64 torch.Size([2, 3]) torch.Size([2, 3])\n"
          ]
        }
      ]
    },
    {
      "cell_type": "markdown",
      "source": [
        "- le type tensor\n",
        "- donnera une matrice à partir d'une liste de listes\n"
      ],
      "metadata": {
        "id": "iOq2UEgFGAXC"
      }
    },
    {
      "cell_type": "code",
      "source": [
        "m = t.tensor([[1,2,3],[4,5,6]])\n",
        "print(m, type(m),m.dtype, m.size(), m.shape)"
      ],
      "metadata": {
        "colab": {
          "base_uri": "https://localhost:8080/"
        },
        "id": "emWD6URQFumL",
        "outputId": "0469af80-1700-4e6f-c206-8ba768e29707"
      },
      "execution_count": null,
      "outputs": [
        {
          "output_type": "stream",
          "name": "stdout",
          "text": [
            "tensor([[1, 2, 3],\n",
            "        [4, 5, 6]]) <class 'torch.Tensor'> torch.int64 torch.Size([2, 3]) torch.Size([2, 3])\n"
          ]
        }
      ]
    },
    {
      "cell_type": "code",
      "source": [],
      "metadata": {
        "id": "73ZJ_pXzGKbk"
      },
      "execution_count": null,
      "outputs": []
    },
    {
      "cell_type": "markdown",
      "source": [
        "## Fonctions utiles pour créér des tenseurs"
      ],
      "metadata": {
        "id": "GC3J5EmJGTIh"
      }
    },
    {
      "cell_type": "code",
      "source": [],
      "metadata": {
        "id": "b4Ip6G7QGU8J"
      },
      "execution_count": null,
      "outputs": []
    },
    {
      "cell_type": "code",
      "source": [
        "# Un tableau de longueur 10, rempli d'entiers qui valent 0\n",
        "t.zeros(10, dtype=int)"
      ],
      "metadata": {
        "colab": {
          "base_uri": "https://localhost:8080/"
        },
        "id": "RiSbgXveGVH2",
        "outputId": "6bf9b5aa-2f0d-459e-cfb5-ff0c3ff7abc0"
      },
      "execution_count": null,
      "outputs": [
        {
          "output_type": "execute_result",
          "data": {
            "text/plain": [
              "tensor([0, 0, 0, 0, 0, 0, 0, 0, 0, 0])"
            ]
          },
          "metadata": {},
          "execution_count": 24
        }
      ]
    },
    {
      "cell_type": "code",
      "source": [
        "# Une matrice  de taille 3x5 remplie de nombres à virgule flottante de valeur 1\n",
        "t.ones((3, 5), dtype=float)"
      ],
      "metadata": {
        "colab": {
          "base_uri": "https://localhost:8080/"
        },
        "id": "2i4rCkfmGZ3s",
        "outputId": "af250900-0bab-4722-ea73-38f11029b748"
      },
      "execution_count": null,
      "outputs": [
        {
          "output_type": "execute_result",
          "data": {
            "text/plain": [
              "tensor([[1., 1., 1., 1., 1.],\n",
              "        [1., 1., 1., 1., 1.],\n",
              "        [1., 1., 1., 1., 1.]], dtype=torch.float64)"
            ]
          },
          "metadata": {},
          "execution_count": 25
        }
      ]
    },
    {
      "cell_type": "code",
      "source": [],
      "metadata": {
        "id": "kBtCqRsPGapN"
      },
      "execution_count": null,
      "outputs": []
    },
    {
      "cell_type": "code",
      "source": [],
      "metadata": {
        "id": "jAWpmN7OEszN"
      },
      "execution_count": null,
      "outputs": []
    },
    {
      "cell_type": "code",
      "source": [],
      "metadata": {
        "id": "Vzti1jEsEs2x"
      },
      "execution_count": null,
      "outputs": []
    },
    {
      "cell_type": "markdown",
      "source": [
        "*Policy Iteration*"
      ],
      "metadata": {
        "id": "Pq9QNB4IlFGI"
      }
    },
    {
      "cell_type": "code",
      "source": [
        "import numpy as np\n",
        "\n",
        "# Définition du MDP (Markov Decision Process)\n",
        "# - S : ensemble des états\n",
        "# - A : ensemble des actions\n",
        "# - P : fonction de transition d'état\n",
        "# - R : fonction de récompense\n",
        "# - gamma : facteur de réduction\n",
        "\n",
        "# 1. Fonction d'initialisation aléatoire de la politique\n",
        "def initialize_policy(num_states, num_actions):\n",
        "    return np.random.randint(0, num_actions, num_states)\n",
        "\n",
        "# Algorithme de Policy Iteration\n",
        "def policy_iteration(S, A, P, R, gamma, max_iterations=1000):\n",
        "    num_states = len(S)\n",
        "    num_actions = len(A)\n",
        "    policy = initialize_policy(num_states, num_actions)\n",
        "\n",
        "    for _ in range(max_iterations):\n",
        "        # Évaluation de la politique actuelle\n",
        "        V = np.zeros(num_states)\n",
        "        for s in range(num_states):\n",
        "            a = policy[s]\n",
        "            V[s] = sum([P[s][a][s1] * (R[s][a][s1] + gamma * V[s1]) for s1 in range(num_states)])\n",
        "\n",
        "        policy_stable = True\n",
        "\n",
        "        # Amélioration de la politique\n",
        "        for s in range(num_states):\n",
        "            old_action = policy[s]\n",
        "            action_values = np.zeros(num_actions)\n",
        "            for a in range(num_actions):\n",
        "                action_values[a] = sum([P[s][a][s1] * (R[s][a][s1] + gamma * V[s1]) for s1 in range(num_states)])\n",
        "\n",
        "            # Sélection de la meilleure action\n",
        "            best_action = np.argmax(action_values)\n",
        "\n",
        "            if old_action != best_action:\n",
        "                policy_stable = False\n",
        "\n",
        "            policy[s] = best_action\n",
        "\n",
        "        if policy_stable:\n",
        "            break\n",
        "\n",
        "    return policy, V\n",
        "\n"
      ],
      "metadata": {
        "id": "hLuSmJ8eGarw"
      },
      "execution_count": null,
      "outputs": []
    },
    {
      "cell_type": "code",
      "source": [
        "# Exemple d'utilisation\n",
        "if __name__ == \"__main__\":\n",
        "    # Définir les ensembles d'états et d'actions, la fonction de transition et la fonction de récompense\n",
        "    num_states = 3\n",
        "    num_actions = 2\n",
        "    S = range(num_states)\n",
        "    A = range(num_actions)\n",
        "\n",
        "    # Définition simplifiée d'une fonction de transition et d'une fonction de récompense\n",
        "    P = np.array([[[0.7, 0.3, 0.0], [0.1, 0.6, 0.3]], [[0.0, 0.8, 0.2], [0.4, 0.4, 0.2]], [[0.0, 0.0, 1.0], [0.0, 0.0, 1.0]]])\n",
        "    R = np.array([[[1.0, -1.0, 0.0], [-1.0, 1.0, 0.0]], [[2.0, -1.0, 0.0], [0.0, 0.0, 0.0]], [[0.0, 0.0, 10.0], [0.0, 0.0, 10.0]]])\n",
        "\n",
        "    gamma = 0.9\n",
        "\n",
        "    # Exécuter l'algorithme de Policy Iteration\n",
        "    optimal_policy, optimal_values = policy_iteration(S, A, P, R, gamma)\n",
        "\n",
        "    print(\"Politique optimale :\", optimal_policy)\n",
        "    print(\"Valeurs optimales :\", optimal_values)\n"
      ],
      "metadata": {
        "id": "AwSCbs1zGavP",
        "colab": {
          "base_uri": "https://localhost:8080/"
        },
        "outputId": "f4c0dc77-7a8f-47b3-bb23-7e31238ea45a"
      },
      "execution_count": null,
      "outputs": [
        {
          "output_type": "stream",
          "name": "stdout",
          "text": [
            "Politique optimale : [1 1 0]\n",
            "Valeurs optimales : [ 0.5   0.18 10.  ]\n"
          ]
        }
      ]
    }
  ]
}