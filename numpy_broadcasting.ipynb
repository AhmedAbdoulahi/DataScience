{
  "nbformat": 4,
  "nbformat_minor": 0,
  "metadata": {
    "colab": {
      "provenance": [],
      "authorship_tag": "ABX9TyPkLNXojm5zyZYa+qYhfUYI",
      "include_colab_link": true
    },
    "kernelspec": {
      "name": "python3",
      "display_name": "Python 3"
    },
    "language_info": {
      "name": "python"
    }
  },
  "cells": [
    {
      "cell_type": "markdown",
      "metadata": {
        "id": "view-in-github",
        "colab_type": "text"
      },
      "source": [
        "<a href=\"https://colab.research.google.com/github/AhmedAbdoulahi/DataScience/blob/master/numpy_broadcasting.ipynb\" target=\"_parent\"><img src=\"https://colab.research.google.com/assets/colab-badge.svg\" alt=\"Open In Colab\"/></a>"
      ]
    },
    {
      "cell_type": "markdown",
      "source": [
        "### **Une courte introduction à Numpy et au broadcasting**"
      ],
      "metadata": {
        "id": "ejhEwUKAgnOf"
      }
    },
    {
      "cell_type": "code",
      "source": [
        "import numpy as np"
      ],
      "metadata": {
        "id": "H6zJglpJgwrW"
      },
      "execution_count": null,
      "outputs": []
    },
    {
      "cell_type": "code",
      "source": [
        "#Ensuite, vous pouvez utiliser Numpy pour générer des matrices ou des vecteurs. Par exemple, numpy.random.rand\n",
        "#vous permet de générer des matrices de nombres aléatoires :\n",
        "r = np.random.rand(3, 7)\n",
        "print(r)\n",
        "print(type(r))\n"
      ],
      "metadata": {
        "colab": {
          "base_uri": "https://localhost:8080/"
        },
        "id": "lHfQm9wlhIT5",
        "outputId": "693c2f7a-b0ad-482b-c0dd-c0735ccf9d6e"
      },
      "execution_count": null,
      "outputs": [
        {
          "output_type": "stream",
          "name": "stdout",
          "text": [
            "[[0.64927178 0.77028149 0.28418568 0.652533   0.06735838 0.57332735\n",
            "  0.35700662]\n",
            " [0.3472824  0.06781286 0.39267646 0.40999177 0.66067511 0.56975237\n",
            "  0.98750615]\n",
            " [0.65188794 0.59642676 0.4157503  0.21366459 0.10436535 0.65384479\n",
            "  0.21789926]]\n",
            "<class 'numpy.ndarray'>\n"
          ]
        }
      ]
    },
    {
      "cell_type": "code",
      "source": [
        "a = np.random.rand(1,2)\n",
        "print(a)"
      ],
      "metadata": {
        "colab": {
          "base_uri": "https://localhost:8080/"
        },
        "id": "5NchBjzChi3F",
        "outputId": "bb90d943-6b52-4334-ea20-a6e0b4a9f2c3"
      },
      "execution_count": null,
      "outputs": [
        {
          "output_type": "stream",
          "name": "stdout",
          "text": [
            "[[0.15045137 0.12784279]]\n"
          ]
        }
      ]
    },
    {
      "cell_type": "markdown",
      "source": [
        "On peut accéder aux éléments d'un ndarray comme s'ils s'agissaient d'éléments d'une liste. Il est\n",
        "aussi possible de faire des slices d'une telle structure. Regardez la documentation des fonctions zeros et\n",
        "ones de la librairie numpy, permettant de générer des tableaux Numpy.\n",
        "Les tableaux Numpy ont une taille\n",
        "xe, et \"sortir\" d'un tableau provoquera une exception :"
      ],
      "metadata": {
        "id": "g1R63loaiHia"
      }
    },
    {
      "cell_type": "code",
      "source": [
        "t = r[:,:2]\n",
        "print(t)"
      ],
      "metadata": {
        "colab": {
          "base_uri": "https://localhost:8080/"
        },
        "id": "HBymN4qwiGEL",
        "outputId": "3a39f42e-f35b-4088-8910-81f4a53d941a"
      },
      "execution_count": null,
      "outputs": [
        {
          "output_type": "stream",
          "name": "stdout",
          "text": [
            "[[0.64927178 0.77028149]\n",
            " [0.3472824  0.06781286]\n",
            " [0.65188794 0.59642676]]\n"
          ]
        }
      ]
    },
    {
      "cell_type": "code",
      "source": [
        "r[5,5] = 0 #provoque une exception si on depasse le nbre d'elements"
      ],
      "metadata": {
        "id": "DY5kYBSrh5Ez"
      },
      "execution_count": null,
      "outputs": []
    },
    {
      "cell_type": "code",
      "source": [
        "#On peut récupérer la taille d'un ndarray sous forme de tuple grâce à l'attribut shape :\n",
        "taille = r.shape\n",
        "print(taille)\n",
        "print(type(taille))"
      ],
      "metadata": {
        "colab": {
          "base_uri": "https://localhost:8080/"
        },
        "id": "LaSj4rr7jk5u",
        "outputId": "f38c393c-ae97-45b9-ff87-ff92a5e4aae2"
      },
      "execution_count": null,
      "outputs": [
        {
          "output_type": "stream",
          "name": "stdout",
          "text": [
            "(3, 7)\n",
            "<class 'tuple'>\n"
          ]
        }
      ]
    },
    {
      "cell_type": "code",
      "source": [],
      "metadata": {
        "id": "A8Q3MLtUjyZX"
      },
      "execution_count": null,
      "outputs": []
    },
    {
      "cell_type": "markdown",
      "source": [
        "Opérations entre matrices de tailles di\u001bérentes\n",
        "Les matrices et vecteurs de Numpy permettent d'utiliser le principe du broadcasting. Pour expliquer ce\n",
        "dernier (qui ne fonctionne qu'avec les matrices Numpy - inutile d'essayer avec les séquences et collections\n",
        "de base de Python), considérons l'exemple suivant\n",
        "\n",
        "NB: si les deux matrices sont de taille differentes alors une exception est leve"
      ],
      "metadata": {
        "id": "OLgcYyQju9Ae"
      }
    },
    {
      "cell_type": "code",
      "source": [
        "s = np.random.randint(0,3,[3,2])\n",
        "t = np.random.randint(4,6,[1,2])\n",
        "f = s+t\n"
      ],
      "metadata": {
        "id": "Uj-XJMIhu-9K"
      },
      "execution_count": null,
      "outputs": []
    },
    {
      "cell_type": "code",
      "source": [
        "print(\"La matrice r vaut\")\n",
        "print(s)\n",
        "print()\n",
        "print(\"La matrice s vaut\")\n",
        "print(t)\n",
        "print()\n",
        "print(\"La matrice f vaut\")\n",
        "print(f)\n",
        "print()\n"
      ],
      "metadata": {
        "colab": {
          "base_uri": "https://localhost:8080/"
        },
        "id": "IVkj4zJbw7H8",
        "outputId": "42788d99-7af1-442c-ecae-c5b17c8198b8"
      },
      "execution_count": null,
      "outputs": [
        {
          "output_type": "stream",
          "name": "stdout",
          "text": [
            "La matrice r vaut\n",
            "[[2 0]\n",
            " [0 0]]\n",
            "\n",
            "La matrice s vaut\n",
            "[[4 5]\n",
            " [5 4]]\n",
            "\n",
            "La matrice f vaut\n",
            "[[6 5]\n",
            " [5 4]]\n",
            "\n"
          ]
        }
      ]
    },
    {
      "cell_type": "code",
      "source": [
        "import numpy\n",
        "#On crée deux matrices de nombres aléatoires entre 0 et 9, de tailles différentes( mais compatible pour le broadcasting, ajuste la forme du tableau en prenant le petit )\n",
        "#le broadcasting joue sur les dimensions temporairement, en parcourant et en ajustant pour avoir le meme shape,\n",
        "r = numpy.random.randint(0, 9, [1, 7])\n",
        "s = numpy.random.randint(0, 9, [5, 7])\n",
        "f = r+s\n",
        "print(\"La matrice r vaut\")\n",
        "print(r)\n",
        "print()\n",
        "print(s)\n",
        "print()\n",
        "print(\"La matrice f vaut\")\n",
        "print(f)\n",
        "print()\n"
      ],
      "metadata": {
        "colab": {
          "base_uri": "https://localhost:8080/"
        },
        "id": "l2X7hN4S0kso",
        "outputId": "1bc612ef-1ea1-47ea-aad1-2655418d7108"
      },
      "execution_count": null,
      "outputs": [
        {
          "output_type": "stream",
          "name": "stdout",
          "text": [
            "La matrice r vaut\n",
            "[[3 4 5 4 0 0 2]]\n",
            "\n",
            "[[1 0 5 5 5 2 6]\n",
            " [6 1 5 8 2 6 4]\n",
            " [8 7 6 4 1 4 8]\n",
            " [0 8 0 8 6 5 0]\n",
            " [0 3 3 7 2 5 4]]\n",
            "\n",
            "La matrice f vaut\n",
            "[[ 4  4 10  9  5  2  8]\n",
            " [ 9  5 10 12  2  6  6]\n",
            " [11 11 11  8  1  4 10]\n",
            " [ 3 12  5 12  6  5  2]\n",
            " [ 3  7  8 11  2  5  6]]\n",
            "\n"
          ]
        }
      ]
    },
    {
      "cell_type": "code",
      "source": [
        "#On crée deux matrices de nombres aléatoires entre 0 et 9\n",
        "r = numpy.random.randint(0, 9, [3, 1])\n",
        "s = numpy.random.randint(0, 9, [1, 4])\n",
        "f = r*s\n",
        "print(\"La matrice r vaut\")\n",
        "print(r)\n",
        "print()\n",
        "print(\"La matrice s vaut\")\n",
        "print(s)\n",
        "print()\n",
        "print(\"La matrice f vaut\")\n",
        "print(f)\n",
        "print()"
      ],
      "metadata": {
        "colab": {
          "base_uri": "https://localhost:8080/"
        },
        "id": "RJ7T5nJHLqx2",
        "outputId": "1e26703a-6297-4439-9a79-7c5dd1490913"
      },
      "execution_count": null,
      "outputs": [
        {
          "output_type": "stream",
          "name": "stdout",
          "text": [
            "La matrice r vaut\n",
            "[[7]\n",
            " [1]\n",
            " [8]]\n",
            "\n",
            "La matrice s vaut\n",
            "[[4 2 0 3]]\n",
            "\n",
            "La matrice f vaut\n",
            "[[28 14  0 21]\n",
            " [ 4  2  0  3]\n",
            " [32 16  0 24]]\n",
            "\n"
          ]
        }
      ]
    },
    {
      "cell_type": "code",
      "source": [
        "# si c'est pas des entiers on utilise uniquement rand au lieu de randint\n",
        "s = np.random.rand(3,3)\n",
        "t = np.random.rand(3,3)\n",
        "f = s+t\n",
        "\n",
        "print(\"La matrice r vaut\")\n",
        "print(s)\n",
        "print()\n",
        "print(\"La matrice s vaut\")\n",
        "print(t)\n",
        "print()\n",
        "print(\"La matrice f vaut\")\n",
        "print(f)\n",
        "print()"
      ],
      "metadata": {
        "colab": {
          "base_uri": "https://localhost:8080/"
        },
        "id": "r7OkYBajwnLD",
        "outputId": "52c31e93-9113-4789-f206-94acd37b0556"
      },
      "execution_count": null,
      "outputs": [
        {
          "output_type": "stream",
          "name": "stdout",
          "text": [
            "La matrice r vaut\n",
            "[[0.64869605 0.32966177 0.37380881]\n",
            " [0.18949994 0.05731323 0.89900395]\n",
            " [0.80644817 0.37257325 0.21816954]]\n",
            "\n",
            "La matrice s vaut\n",
            "[[0.43192404 0.68046875 0.58146408]\n",
            " [0.64387309 0.06823577 0.83505633]\n",
            " [0.20850923 0.49387261 0.4072546 ]]\n",
            "\n",
            "La matrice f vaut\n",
            "[[1.08062009 1.01013051 0.95527289]\n",
            " [0.83337303 0.12554901 1.73406028]\n",
            " [1.0149574  0.86644586 0.62542414]]\n",
            "\n"
          ]
        }
      ]
    },
    {
      "cell_type": "code",
      "source": [],
      "metadata": {
        "id": "3kCKBZ1l0hYv"
      },
      "execution_count": null,
      "outputs": []
    },
    {
      "cell_type": "code",
      "source": [],
      "metadata": {
        "id": "IbYVbEyBMeO2"
      },
      "execution_count": null,
      "outputs": []
    },
    {
      "cell_type": "code",
      "source": [],
      "metadata": {
        "id": "OD-GVpUyMebu"
      },
      "execution_count": null,
      "outputs": []
    }
  ]
}