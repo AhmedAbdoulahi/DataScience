{
  "cells": [
    {
      "cell_type": "markdown",
      "metadata": {
        "id": "view-in-github",
        "colab_type": "text"
      },
      "source": [
        "<a href=\"https://colab.research.google.com/github/AhmedAbdoulahi/DataScience/blob/master/TP_iris.ipynb\" target=\"_parent\"><img src=\"https://colab.research.google.com/assets/colab-badge.svg\" alt=\"Open In Colab\"/></a>"
      ]
    },
    {
      "cell_type": "code",
      "execution_count": null,
      "id": "2f1cabc2",
      "metadata": {
        "id": "2f1cabc2"
      },
      "outputs": [],
      "source": [
        "import warnings\n",
        "warnings.filterwarnings(\"ignore\")"
      ]
    },
    {
      "cell_type": "code",
      "execution_count": null,
      "id": "1712dc28",
      "metadata": {
        "id": "1712dc28"
      },
      "outputs": [],
      "source": [
        "import numpy as np\n",
        "import pandas as pd"
      ]
    },
    {
      "cell_type": "code",
      "execution_count": null,
      "id": "11a5bf35",
      "metadata": {
        "id": "11a5bf35",
        "outputId": "c2701cbd-23d9-4590-af89-a9554266ee47"
      },
      "outputs": [
        {
          "name": "stdout",
          "output_type": "stream",
          "text": [
            "Taille du jeu de données :\n",
            "(150, 6)\n"
          ]
        }
      ],
      "source": [
        "iris = pd.read_csv(\"Iris.csv\")\n",
        "\n",
        "print(\"Taille du jeu de données :\")\n",
        "print(iris.shape)"
      ]
    },
    {
      "cell_type": "code",
      "execution_count": null,
      "id": "a2de6041",
      "metadata": {
        "id": "a2de6041"
      },
      "outputs": [],
      "source": []
    },
    {
      "cell_type": "code",
      "execution_count": null,
      "id": "681331cb",
      "metadata": {
        "id": "681331cb",
        "outputId": "6bb1da55-ecfc-4a59-b81f-a75258d2293f"
      },
      "outputs": [
        {
          "data": {
            "text/html": [
              "<div>\n",
              "<style scoped>\n",
              "    .dataframe tbody tr th:only-of-type {\n",
              "        vertical-align: middle;\n",
              "    }\n",
              "\n",
              "    .dataframe tbody tr th {\n",
              "        vertical-align: top;\n",
              "    }\n",
              "\n",
              "    .dataframe thead th {\n",
              "        text-align: right;\n",
              "    }\n",
              "</style>\n",
              "<table border=\"1\" class=\"dataframe\">\n",
              "  <thead>\n",
              "    <tr style=\"text-align: right;\">\n",
              "      <th></th>\n",
              "      <th>Id</th>\n",
              "      <th>SepalLengthCm</th>\n",
              "      <th>SepalWidthCm</th>\n",
              "      <th>PetalLengthCm</th>\n",
              "      <th>PetalWidthCm</th>\n",
              "      <th>Species</th>\n",
              "    </tr>\n",
              "  </thead>\n",
              "  <tbody>\n",
              "    <tr>\n",
              "      <th>0</th>\n",
              "      <td>1</td>\n",
              "      <td>5.1</td>\n",
              "      <td>3.5</td>\n",
              "      <td>1.4</td>\n",
              "      <td>0.2</td>\n",
              "      <td>Iris-setosa</td>\n",
              "    </tr>\n",
              "    <tr>\n",
              "      <th>1</th>\n",
              "      <td>2</td>\n",
              "      <td>4.9</td>\n",
              "      <td>3.0</td>\n",
              "      <td>1.4</td>\n",
              "      <td>0.2</td>\n",
              "      <td>Iris-setosa</td>\n",
              "    </tr>\n",
              "    <tr>\n",
              "      <th>2</th>\n",
              "      <td>3</td>\n",
              "      <td>4.7</td>\n",
              "      <td>3.2</td>\n",
              "      <td>1.3</td>\n",
              "      <td>0.2</td>\n",
              "      <td>Iris-setosa</td>\n",
              "    </tr>\n",
              "    <tr>\n",
              "      <th>3</th>\n",
              "      <td>4</td>\n",
              "      <td>4.6</td>\n",
              "      <td>3.1</td>\n",
              "      <td>1.5</td>\n",
              "      <td>0.2</td>\n",
              "      <td>Iris-setosa</td>\n",
              "    </tr>\n",
              "    <tr>\n",
              "      <th>4</th>\n",
              "      <td>5</td>\n",
              "      <td>5.0</td>\n",
              "      <td>3.6</td>\n",
              "      <td>1.4</td>\n",
              "      <td>0.2</td>\n",
              "      <td>Iris-setosa</td>\n",
              "    </tr>\n",
              "  </tbody>\n",
              "</table>\n",
              "</div>"
            ],
            "text/plain": [
              "   Id  SepalLengthCm  SepalWidthCm  PetalLengthCm  PetalWidthCm      Species\n",
              "0   1            5.1           3.5            1.4           0.2  Iris-setosa\n",
              "1   2            4.9           3.0            1.4           0.2  Iris-setosa\n",
              "2   3            4.7           3.2            1.3           0.2  Iris-setosa\n",
              "3   4            4.6           3.1            1.5           0.2  Iris-setosa\n",
              "4   5            5.0           3.6            1.4           0.2  Iris-setosa"
            ]
          },
          "execution_count": 44,
          "metadata": {},
          "output_type": "execute_result"
        }
      ],
      "source": [
        "iris.head()"
      ]
    },
    {
      "cell_type": "code",
      "execution_count": null,
      "id": "390da7cf",
      "metadata": {
        "id": "390da7cf",
        "outputId": "2745a00b-14e5-4c0d-9d04-9dfb9702ceb5"
      },
      "outputs": [
        {
          "name": "stdout",
          "output_type": "stream",
          "text": [
            "<class 'pandas.core.frame.DataFrame'>\n",
            "RangeIndex: 150 entries, 0 to 149\n",
            "Data columns (total 6 columns):\n",
            " #   Column         Non-Null Count  Dtype  \n",
            "---  ------         --------------  -----  \n",
            " 0   Id             150 non-null    int64  \n",
            " 1   SepalLengthCm  150 non-null    float64\n",
            " 2   SepalWidthCm   150 non-null    float64\n",
            " 3   PetalLengthCm  150 non-null    float64\n",
            " 4   PetalWidthCm   150 non-null    float64\n",
            " 5   Species        150 non-null    object \n",
            "dtypes: float64(4), int64(1), object(1)\n",
            "memory usage: 7.2+ KB\n"
          ]
        }
      ],
      "source": [
        "iris.info()"
      ]
    },
    {
      "cell_type": "code",
      "execution_count": null,
      "id": "d01d5a98",
      "metadata": {
        "id": "d01d5a98"
      },
      "outputs": [],
      "source": [
        "#supprimons la colonne n'apportant pas d'info\n",
        "iris.drop('Id',axis=1,inplace=True)"
      ]
    },
    {
      "cell_type": "code",
      "execution_count": null,
      "id": "a278de91",
      "metadata": {
        "id": "a278de91"
      },
      "outputs": [],
      "source": [
        "import seaborn as sns\n",
        "import matplotlib.pyplot as plt"
      ]
    },
    {
      "cell_type": "code",
      "execution_count": null,
      "id": "d6f8d961",
      "metadata": {
        "id": "d6f8d961",
        "outputId": "e63e743f-78a8-4ce6-ae91-75469b02c505"
      },
      "outputs": [
        {
          "data": {
            "image/png": "[encoded data removed]",
            "text/plain": [
              "<Figure size 1000x600 with 1 Axes>"
            ]
          },
          "metadata": {},
          "output_type": "display_data"
        }
      ],
      "source": [
        "fig = iris[iris.Species=='Iris-setosa'].plot(kind='scatter',x='SepalLengthCm',y='SepalWidthCm',color='orange', label='Setosa')\n",
        "iris[iris.Species=='Iris-versicolor'].plot(kind='scatter',x='SepalLengthCm',y='SepalWidthCm',color='blue', label='versicolor',ax=fig)\n",
        "iris[iris.Species=='Iris-virginica'].plot(kind='scatter',x='SepalLengthCm',y='SepalWidthCm',color='green', label='virginica', ax=fig)\n",
        "fig.set_xlabel(\"Sepal Length\")\n",
        "fig.set_ylabel(\"Sepal Width\")\n",
        "fig.set_title(\"Sepal Length VS Width\")\n",
        "fig=plt.gcf()\n",
        "fig.set_size_inches(10,6)\n",
        "plt.show()"
      ]
    },
    {
      "cell_type": "code",
      "execution_count": null,
      "id": "467a719a",
      "metadata": {
        "id": "467a719a",
        "outputId": "3c0177a5-657f-4dbe-b4ae-a16b7e3caec7"
      },
      "outputs": [
        {
          "data": {
            "image/png": "[encoded data removed]",
            "text/plain": [
              "<Figure size 1000x600 with 1 Axes>"
            ]
          },
          "metadata": {},
          "output_type": "display_data"
        }
      ],
      "source": [
        "fig = iris[iris.Species=='Iris-setosa'].plot.scatter(x='PetalLengthCm',y='PetalWidthCm',color='orange', label='Setosa')\n",
        "iris[iris.Species=='Iris-versicolor'].plot.scatter(x='PetalLengthCm',y='PetalWidthCm',color='blue', label='versicolor',ax=fig)\n",
        "iris[iris.Species=='Iris-virginica'].plot.scatter(x='PetalLengthCm',y='PetalWidthCm',color='green', label='virginica', ax=fig)\n",
        "fig.set_xlabel(\"Petal Length\")\n",
        "fig.set_ylabel(\"Petal Width\")\n",
        "fig.set_title(\" Petal Length VS Width\")\n",
        "fig=plt.gcf()\n",
        "fig.set_size_inches(10,6)\n",
        "plt.show()"
      ]
    },
    {
      "cell_type": "code",
      "execution_count": null,
      "id": "6fb3ec7b",
      "metadata": {
        "id": "6fb3ec7b"
      },
      "outputs": [],
      "source": []
    },
    {
      "cell_type": "code",
      "execution_count": null,
      "id": "3f75fb7f",
      "metadata": {
        "id": "3f75fb7f"
      },
      "outputs": [],
      "source": []
    },
    {
      "cell_type": "code",
      "execution_count": null,
      "id": "28de4b1b",
      "metadata": {
        "id": "28de4b1b"
      },
      "outputs": [],
      "source": [
        "from sklearn.model_selection import train_test_split\n",
        "from sklearn.neighbors import KNeighborsClassifier\n",
        "from sklearn import metrics"
      ]
    },
    {
      "cell_type": "code",
      "execution_count": null,
      "id": "2fe19520",
      "metadata": {
        "id": "2fe19520",
        "outputId": "a8629b25-0115-4f81-b875-6b2322fd3b55"
      },
      "outputs": [
        {
          "name": "stdout",
          "output_type": "stream",
          "text": [
            "(105, 5)\n",
            "(45, 5)\n"
          ]
        }
      ],
      "source": [
        "train, test = train_test_split(iris, test_size = 0.3)\n",
        "\n",
        "print(train.shape)\n",
        "print(test.shape)"
      ]
    },
    {
      "cell_type": "code",
      "execution_count": null,
      "id": "7878e4fa",
      "metadata": {
        "id": "7878e4fa"
      },
      "outputs": [],
      "source": [
        "train_X = train[['SepalLengthCm','SepalWidthCm','PetalLengthCm','PetalWidthCm']]\n",
        "train_y=train.Species\n",
        "test_X= test[['SepalLengthCm','SepalWidthCm','PetalLengthCm','PetalWidthCm']]\n",
        "test_y =test.Species"
      ]
    },
    {
      "cell_type": "code",
      "execution_count": null,
      "id": "110bc913",
      "metadata": {
        "id": "110bc913",
        "outputId": "89535ac6-58a7-4158-b0de-d79bc327c72e"
      },
      "outputs": [
        {
          "data": {
            "text/html": [
              "<div>\n",
              "<style scoped>\n",
              "    .dataframe tbody tr th:only-of-type {\n",
              "        vertical-align: middle;\n",
              "    }\n",
              "\n",
              "    .dataframe tbody tr th {\n",
              "        vertical-align: top;\n",
              "    }\n",
              "\n",
              "    .dataframe thead th {\n",
              "        text-align: right;\n",
              "    }\n",
              "</style>\n",
              "<table border=\"1\" class=\"dataframe\">\n",
              "  <thead>\n",
              "    <tr style=\"text-align: right;\">\n",
              "      <th></th>\n",
              "      <th>SepalLengthCm</th>\n",
              "      <th>SepalWidthCm</th>\n",
              "      <th>PetalLengthCm</th>\n",
              "      <th>PetalWidthCm</th>\n",
              "    </tr>\n",
              "  </thead>\n",
              "  <tbody>\n",
              "    <tr>\n",
              "      <th>28</th>\n",
              "      <td>5.2</td>\n",
              "      <td>3.4</td>\n",
              "      <td>1.4</td>\n",
              "      <td>0.2</td>\n",
              "    </tr>\n",
              "    <tr>\n",
              "      <th>39</th>\n",
              "      <td>5.1</td>\n",
              "      <td>3.4</td>\n",
              "      <td>1.5</td>\n",
              "      <td>0.2</td>\n",
              "    </tr>\n",
              "    <tr>\n",
              "      <th>2</th>\n",
              "      <td>4.7</td>\n",
              "      <td>3.2</td>\n",
              "      <td>1.3</td>\n",
              "      <td>0.2</td>\n",
              "    </tr>\n",
              "    <tr>\n",
              "      <th>101</th>\n",
              "      <td>5.8</td>\n",
              "      <td>2.7</td>\n",
              "      <td>5.1</td>\n",
              "      <td>1.9</td>\n",
              "    </tr>\n",
              "    <tr>\n",
              "      <th>114</th>\n",
              "      <td>5.8</td>\n",
              "      <td>2.8</td>\n",
              "      <td>5.1</td>\n",
              "      <td>2.4</td>\n",
              "    </tr>\n",
              "  </tbody>\n",
              "</table>\n",
              "</div>"
            ],
            "text/plain": [
              "     SepalLengthCm  SepalWidthCm  PetalLengthCm  PetalWidthCm\n",
              "28             5.2           3.4            1.4           0.2\n",
              "39             5.1           3.4            1.5           0.2\n",
              "2              4.7           3.2            1.3           0.2\n",
              "101            5.8           2.7            5.1           1.9\n",
              "114            5.8           2.8            5.1           2.4"
            ]
          },
          "execution_count": 66,
          "metadata": {},
          "output_type": "execute_result"
        }
      ],
      "source": [
        "train_X.head()"
      ]
    },
    {
      "cell_type": "code",
      "execution_count": null,
      "id": "294d753e",
      "metadata": {
        "id": "294d753e",
        "outputId": "6fddc272-3432-4ebd-9220-03d56c5e0685"
      },
      "outputs": [
        {
          "data": {
            "text/html": [
              "<div>\n",
              "<style scoped>\n",
              "    .dataframe tbody tr th:only-of-type {\n",
              "        vertical-align: middle;\n",
              "    }\n",
              "\n",
              "    .dataframe tbody tr th {\n",
              "        vertical-align: top;\n",
              "    }\n",
              "\n",
              "    .dataframe thead th {\n",
              "        text-align: right;\n",
              "    }\n",
              "</style>\n",
              "<table border=\"1\" class=\"dataframe\">\n",
              "  <thead>\n",
              "    <tr style=\"text-align: right;\">\n",
              "      <th></th>\n",
              "      <th>SepalLengthCm</th>\n",
              "      <th>SepalWidthCm</th>\n",
              "      <th>PetalLengthCm</th>\n",
              "      <th>PetalWidthCm</th>\n",
              "    </tr>\n",
              "  </thead>\n",
              "  <tbody>\n",
              "    <tr>\n",
              "      <th>70</th>\n",
              "      <td>5.9</td>\n",
              "      <td>3.2</td>\n",
              "      <td>4.8</td>\n",
              "      <td>1.8</td>\n",
              "    </tr>\n",
              "    <tr>\n",
              "      <th>48</th>\n",
              "      <td>5.3</td>\n",
              "      <td>3.7</td>\n",
              "      <td>1.5</td>\n",
              "      <td>0.2</td>\n",
              "    </tr>\n",
              "    <tr>\n",
              "      <th>145</th>\n",
              "      <td>6.7</td>\n",
              "      <td>3.0</td>\n",
              "      <td>5.2</td>\n",
              "      <td>2.3</td>\n",
              "    </tr>\n",
              "    <tr>\n",
              "      <th>4</th>\n",
              "      <td>5.0</td>\n",
              "      <td>3.6</td>\n",
              "      <td>1.4</td>\n",
              "      <td>0.2</td>\n",
              "    </tr>\n",
              "    <tr>\n",
              "      <th>12</th>\n",
              "      <td>4.8</td>\n",
              "      <td>3.0</td>\n",
              "      <td>1.4</td>\n",
              "      <td>0.1</td>\n",
              "    </tr>\n",
              "  </tbody>\n",
              "</table>\n",
              "</div>"
            ],
            "text/plain": [
              "     SepalLengthCm  SepalWidthCm  PetalLengthCm  PetalWidthCm\n",
              "70             5.9           3.2            4.8           1.8\n",
              "48             5.3           3.7            1.5           0.2\n",
              "145            6.7           3.0            5.2           2.3\n",
              "4              5.0           3.6            1.4           0.2\n",
              "12             4.8           3.0            1.4           0.1"
            ]
          },
          "execution_count": 67,
          "metadata": {},
          "output_type": "execute_result"
        }
      ],
      "source": [
        "test_X.head()"
      ]
    },
    {
      "cell_type": "code",
      "execution_count": null,
      "id": "49a9dc6f",
      "metadata": {
        "id": "49a9dc6f"
      },
      "outputs": [],
      "source": []
    },
    {
      "cell_type": "markdown",
      "id": "381ef88d",
      "metadata": {
        "id": "381ef88d"
      },
      "source": [
        "## KNN"
      ]
    },
    {
      "cell_type": "code",
      "execution_count": null,
      "id": "a18c6cc5",
      "metadata": {
        "id": "a18c6cc5",
        "outputId": "c085bda4-53a9-4e4f-b61f-331ddb682cb0"
      },
      "outputs": [
        {
          "name": "stdout",
          "output_type": "stream",
          "text": [
            "The accuracy of the KNN is 0.9777777777777777\n"
          ]
        }
      ],
      "source": [
        "model=KNeighborsClassifier(n_neighbors=3)\n",
        "model.fit(train_X,train_y)\n",
        "prediction=model.predict(test_X)\n",
        "print('The accuracy of the KNN is',metrics.accuracy_score(prediction,test_y))"
      ]
    },
    {
      "cell_type": "code",
      "execution_count": null,
      "id": "f553dba6",
      "metadata": {
        "id": "f553dba6"
      },
      "outputs": [],
      "source": []
    },
    {
      "cell_type": "markdown",
      "id": "395c4eb1",
      "metadata": {
        "id": "395c4eb1"
      },
      "source": [
        "### Standardisation des donnees"
      ]
    },
    {
      "cell_type": "code",
      "execution_count": null,
      "id": "71c1702b",
      "metadata": {
        "id": "71c1702b"
      },
      "outputs": [],
      "source": [
        "features = ['SepalLengthCm', 'SepalWidthCm', 'PetalLengthCm', 'PetalWidthCm']\n",
        "X = iris[features]"
      ]
    },
    {
      "cell_type": "code",
      "execution_count": null,
      "id": "53b939d9",
      "metadata": {
        "id": "53b939d9"
      },
      "outputs": [],
      "source": [
        "from sklearn.preprocessing import StandardScaler"
      ]
    },
    {
      "cell_type": "code",
      "execution_count": null,
      "id": "5e4ee0d4",
      "metadata": {
        "id": "5e4ee0d4"
      },
      "outputs": [],
      "source": [
        "# Standardisation des données\n",
        "scaler = StandardScaler()\n",
        "\n",
        "# Ajustement sur les données d'entraînement\n",
        "train_X_scaled = scaler.fit_transform(train_X)\n",
        "\n",
        "# Transformation des données de test\n",
        "test_X_scaled = scaler.transform(test_X)"
      ]
    },
    {
      "cell_type": "markdown",
      "id": "0df8c42d",
      "metadata": {
        "id": "0df8c42d"
      },
      "source": [
        "## PCA"
      ]
    },
    {
      "cell_type": "code",
      "execution_count": null,
      "id": "27aac9fb",
      "metadata": {
        "id": "27aac9fb"
      },
      "outputs": [],
      "source": [
        "from sklearn.decomposition import PCA\n"
      ]
    },
    {
      "cell_type": "code",
      "execution_count": null,
      "id": "acb552eb",
      "metadata": {
        "id": "acb552eb"
      },
      "outputs": [],
      "source": [
        "pca = PCA(n_components=2)\n",
        "\n",
        "# Ajustement de la PCA sur les données d'entraînement\n",
        "train_X_pca = pca.fit_transform(train_X_scaled)\n",
        "\n",
        "# Transformation des données de test\n",
        "test_X_pca = pca.transform(test_X_scaled)"
      ]
    },
    {
      "cell_type": "code",
      "execution_count": null,
      "id": "807fbb64",
      "metadata": {
        "id": "807fbb64",
        "outputId": "60f87d27-1409-4989-8ab3-f3d16d4d9664"
      },
      "outputs": [
        {
          "name": "stdout",
          "output_type": "stream",
          "text": [
            "Variance expliquée par chaque composante : [0.73686793 0.22221364]\n",
            "Variance totale expliquée : 0.9590815710515846\n"
          ]
        }
      ],
      "source": [
        "# Afficher la variance expliquée\n",
        "print(\"Variance expliquée par chaque composante :\", pca.explained_variance_ratio_)\n",
        "print(\"Variance totale expliquée :\", sum(pca.explained_variance_ratio_))"
      ]
    },
    {
      "cell_type": "markdown",
      "id": "6ab79bef",
      "metadata": {
        "id": "6ab79bef"
      },
      "source": [
        "## KNN apres PCA"
      ]
    },
    {
      "cell_type": "code",
      "execution_count": null,
      "id": "b71c12da",
      "metadata": {
        "id": "b71c12da"
      },
      "outputs": [],
      "source": [
        "# Entraîner le modèle avec les données PCA réduites\n",
        "model.fit(train_X_pca, train_y)\n",
        "\n",
        "# Prédire avec les données de test réduites\n",
        "prediction = model.predict(test_X_pca)"
      ]
    },
    {
      "cell_type": "code",
      "execution_count": null,
      "id": "0f2daf61",
      "metadata": {
        "id": "0f2daf61",
        "outputId": "0dd3bd19-c696-427e-c97a-f19e93bf2995"
      },
      "outputs": [
        {
          "name": "stdout",
          "output_type": "stream",
          "text": [
            "The accuracy of the KNN after PCA is 0.8833333333333333\n"
          ]
        }
      ],
      "source": [
        "# Évaluer la précision\n",
        "accuracy = metrics.accuracy_score(test_y, prediction)\n",
        "print('The accuracy of the KNN after PCA is', accuracy)"
      ]
    },
    {
      "cell_type": "code",
      "execution_count": null,
      "id": "0972b491",
      "metadata": {
        "id": "0972b491"
      },
      "outputs": [],
      "source": []
    },
    {
      "cell_type": "markdown",
      "id": "b6b5cc25",
      "metadata": {
        "id": "b6b5cc25"
      },
      "source": [
        "## Random forest"
      ]
    },
    {
      "cell_type": "code",
      "execution_count": null,
      "id": "0ea858fb",
      "metadata": {
        "id": "0ea858fb"
      },
      "outputs": [],
      "source": [
        "from sklearn.ensemble import RandomForestClassifier"
      ]
    },
    {
      "cell_type": "code",
      "execution_count": null,
      "id": "e56a8d52",
      "metadata": {
        "id": "e56a8d52"
      },
      "outputs": [],
      "source": [
        "rf_model = RandomForestClassifier(n_estimators=100, random_state=42)\n",
        "rf_model.fit(train_X, train_y)\n",
        "\n",
        "# Prédire les résultats sur l'ensemble de test\n",
        "rf_predictions = rf_model.predict(test_X)\n"
      ]
    },
    {
      "cell_type": "code",
      "execution_count": null,
      "id": "ac6d0224",
      "metadata": {
        "id": "ac6d0224",
        "outputId": "d3b85872-a460-4a15-c470-485dba572f70"
      },
      "outputs": [
        {
          "name": "stdout",
          "output_type": "stream",
          "text": [
            "Random Forest accuracy avant PCA : 0.9555555555555556\n"
          ]
        }
      ],
      "source": [
        "# Évaluer la précision\n",
        "rf_accuracy = metrics.accuracy_score(test_y, rf_predictions)\n",
        "print(\"Random Forest accuracy avant PCA :\", rf_accuracy)"
      ]
    },
    {
      "cell_type": "markdown",
      "id": "4a633cc9",
      "metadata": {
        "id": "4a633cc9"
      },
      "source": [
        "## Random forest apres PCA"
      ]
    },
    {
      "cell_type": "code",
      "execution_count": null,
      "id": "6bf07370",
      "metadata": {
        "id": "6bf07370"
      },
      "outputs": [],
      "source": [
        "rf_model_pca = RandomForestClassifier(n_estimators=100, random_state=42)\n",
        "\n",
        "rf_model_pca.fit(train_X_pca, train_y)\n",
        "\n",
        "rf_predictions_pca = rf_model_pca.predict(test_X_pca)"
      ]
    },
    {
      "cell_type": "code",
      "execution_count": null,
      "id": "be767c94",
      "metadata": {
        "id": "be767c94",
        "outputId": "562d738b-4378-43f9-ffe6-cc48c7aa88c1"
      },
      "outputs": [
        {
          "name": "stdout",
          "output_type": "stream",
          "text": [
            "Random Forest accuracy après PCA : 0.9111111111111111\n"
          ]
        }
      ],
      "source": [
        "# Évaluer la précision\n",
        "rf_accuracy_pca = metrics.accuracy_score(test_y, rf_predictions_pca)\n",
        "print(\"Random Forest accuracy après PCA :\", rf_accuracy_pca)"
      ]
    },
    {
      "cell_type": "code",
      "execution_count": null,
      "id": "c13e325f",
      "metadata": {
        "id": "c13e325f"
      },
      "outputs": [],
      "source": []
    }
  ],
  "metadata": {
    "kernelspec": {
      "display_name": "Python 3 (ipykernel)",
      "language": "python",
      "name": "python3"
    },
    "language_info": {
      "codemirror_mode": {
        "name": "ipython",
        "version": 3
      },
      "file_extension": ".py",
      "mimetype": "text/x-python",
      "name": "python",
      "nbconvert_exporter": "python",
      "pygments_lexer": "ipython3",
      "version": "3.11.5"
    },
    "colab": {
      "provenance": [],
      "include_colab_link": true
    }
  },
  "nbformat": 4,
  "nbformat_minor": 5
}